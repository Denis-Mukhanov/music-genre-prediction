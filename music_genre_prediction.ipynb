{
 "cells": [
  {
   "cell_type": "markdown",
   "id": "cf5d0c5d",
   "metadata": {},
   "source": [
    "[![image-1.png](https://i.postimg.cc/Dw0ChHKk/image-1.png)](https://postimg.cc/LJdkByXN)"
   ]
  },
  {
   "cell_type": "markdown",
   "id": "0daa0e54",
   "metadata": {},
   "source": [
    "<div style=\"padding:20px 30px 30px; \n",
    "            color:#004346;\n",
    "            font-size:30px;\n",
    "            display:fill;\n",
    "            text-align:center;\n",
    "            border-radius:20px;\n",
    "            border: 5px double;\n",
    "            border-color:#201E20;\n",
    "            background-color: #E8F1F2;\n",
    "            overflow:hidden;\n",
    "            font-weight:400\"> \n",
    "<p style=\"font-weight: bold; text-align: center;\">Определение музыкального жанра</p>\n",
    "\n",
    "\n",
    "</div>"
   ]
  },
  {
   "cell_type": "markdown",
   "id": "62400d88",
   "metadata": {},
   "source": [
    "<div style=\"padding:0px 40px 30px; \n",
    "            color:#004346;\n",
    "            font-size:110%;\n",
    "            display:fill;\n",
    "            border-radius:20px;\n",
    "            border: 5px double;\n",
    "            border-color:#201E20;\n",
    "            background-color: #E8F1F2;\n",
    "            overflow:hidden;\n",
    "            font-weight:450;\"> \n",
    "    \n",
    "__Заказчик:__ Музыкальный стриминговый сервис \"МиФаСоль\"\n",
    "    \n",
    "__Описание задачи:__ Сервис расширяет работу с новыми артистами и музыкантами, в связи с чем возникла задача - правильно классифицировать новые музыкальные треки, чтобы улучшить работу рекомендательной системы.\n",
    "\n",
    "__Постановка задачи:__ Разработать модель, позволяющую классифицировать музыкальные произведения по жанрам.\n",
    "    \n",
    "__Описание данных:__\n",
    "    \n",
    "- файл `train.csv` информация (~20000) музыкальных треках, которые будут использоваться в качестве обучающих данных.\n",
    "    \n",
    "- файл `test.csv` информация (~5000) музыкальных треках, которые будут использоваться в качестве тестовых данных.\n",
    "    \n",
    "__Описание полей данных:__\n",
    "    \n",
    "- instance_id - уникальный идентификатор трека\n",
    "- track_name - название трека\n",
    "- acousticness - акустичность\n",
    "- danceability - танцевальность\n",
    "- duration_ms -продолжительность в милисекундах\n",
    "- energy - энергичность\n",
    "- instrumentalness - инструментальность\n",
    "- key - базовый ключ (нота) произведения\n",
    "- liveness - привлекательность\n",
    "- loudness - громкость\n",
    "- mode - указывает на модальность (мажорную или минорную) трека\n",
    "- speechiness - выразительность\n",
    "- tempo - темп\n",
    "- obtained_date - дата загрузки в сервис\n",
    "- valence - привлекательность произведения для пользователей сервиса\n",
    "- __music_genre__ - музыкальный жанр (целевой признак)\n",
    "\n",
    "__Оценка результата:__ в данной задаче мы будем использовать метрику f1_micro для оценки качества модели.\n",
    "</div>    "
   ]
  },
  {
   "cell_type": "markdown",
   "id": "ca15fd00",
   "metadata": {},
   "source": [
    "<div style=\"padding:0px 20px 10px; \n",
    "            color:#004346;\n",
    "            font-size:15px;\n",
    "            display:fill;\n",
    "            text-align:center;\n",
    "            border-radius:20px;\n",
    "            border: 5px double;\n",
    "            border-color:#201E20;\n",
    "            background-color: #E8F1F2;\n",
    "            overflow:hidden;\n",
    "            font-weight:400\"> \n",
    "\n",
    "# Используемые библиотеки\n",
    "\n",
    "</div>"
   ]
  },
  {
   "cell_type": "code",
   "execution_count": 1,
   "id": "8aad700a",
   "metadata": {},
   "outputs": [],
   "source": [
    "import numpy as np\n",
    "import pandas as pd\n",
    "import random\n",
    "import warnings\n",
    "import matplotlib.pyplot as plt\n",
    "import seaborn as sns\n",
    "import phik\n",
    "\n",
    "from sklearn.model_selection import train_test_split, cross_val_predict\n",
    "from sklearn.metrics import f1_score, mean_squared_error, accuracy_score, classification_report\n",
    "\n",
    "from sklearn.linear_model import LinearRegression\n",
    "\n",
    "from sklearn.compose import ColumnTransformer\n",
    "from sklearn.pipeline import Pipeline\n",
    "from sklearn.preprocessing import StandardScaler, OneHotEncoder, LabelEncoder, FunctionTransformer\n",
    "from sklearn.impute import SimpleImputer\n",
    "\n",
    "from sklearn.model_selection import StratifiedKFold\n",
    "import optuna\n",
    "\n",
    "from sklearn.linear_model import LogisticRegression\n",
    "from lightgbm import LGBMClassifier\n",
    "from catboost import CatBoostClassifier, Pool, cv\n",
    "\n",
    "import transformers\n",
    "from tqdm import notebook, tqdm\n",
    "import torch\n",
    "import torch.nn as nn\n",
    "import torch.optim as optim\n",
    "from transformers import BertTokenizer, BertForSequenceClassification, AdamW\n",
    "from torch.utils.data import DataLoader\n",
    "from torch.nn.utils.rnn import pad_sequence\n",
    "\n",
    "from skorch import NeuralNetClassifier\n",
    "from skorch.callbacks import EpochScoring, EarlyStopping\n",
    "\n",
    "# константы\n",
    "RANDOM_SEED = 42\n",
    "\n",
    "# настройки блокнота\n",
    "random.seed(RANDOM_SEED)\n",
    "warnings.filterwarnings('ignore')"
   ]
  },
  {
   "cell_type": "markdown",
   "id": "f1968da7",
   "metadata": {},
   "source": [
    "<div style=\"padding:0px 20px 10px; \n",
    "            color:#004346;\n",
    "            font-size:15px;\n",
    "            display:fill;\n",
    "            text-align:center;\n",
    "            border-radius:20px;\n",
    "            border: 5px double;\n",
    "            border-color:#201E20;\n",
    "            background-color: #E8F1F2;\n",
    "            overflow:hidden;\n",
    "            font-weight:400\"> \n",
    "\n",
    "# Загрузка и общая информация данных\n",
    "\n",
    "</div>"
   ]
  },
  {
   "cell_type": "code",
   "execution_count": 2,
   "id": "eff16ed1",
   "metadata": {
    "code_folding": []
   },
   "outputs": [
    {
     "name": "stdout",
     "output_type": "stream",
     "text": [
      "Информация для обучения:\n"
     ]
    },
    {
     "data": {
      "text/html": [
       "<div>\n",
       "<style scoped>\n",
       "    .dataframe tbody tr th:only-of-type {\n",
       "        vertical-align: middle;\n",
       "    }\n",
       "\n",
       "    .dataframe tbody tr th {\n",
       "        vertical-align: top;\n",
       "    }\n",
       "\n",
       "    .dataframe thead th {\n",
       "        text-align: right;\n",
       "    }\n",
       "</style>\n",
       "<table border=\"1\" class=\"dataframe\">\n",
       "  <thead>\n",
       "    <tr style=\"text-align: right;\">\n",
       "      <th></th>\n",
       "      <th>instance_id</th>\n",
       "      <th>track_name</th>\n",
       "      <th>acousticness</th>\n",
       "      <th>danceability</th>\n",
       "      <th>duration_ms</th>\n",
       "      <th>energy</th>\n",
       "      <th>instrumentalness</th>\n",
       "      <th>key</th>\n",
       "      <th>liveness</th>\n",
       "      <th>loudness</th>\n",
       "      <th>mode</th>\n",
       "      <th>speechiness</th>\n",
       "      <th>tempo</th>\n",
       "      <th>obtained_date</th>\n",
       "      <th>valence</th>\n",
       "      <th>music_genre</th>\n",
       "    </tr>\n",
       "  </thead>\n",
       "  <tbody>\n",
       "    <tr>\n",
       "      <th>0</th>\n",
       "      <td>25143.0</td>\n",
       "      <td>Highwayman</td>\n",
       "      <td>0.480</td>\n",
       "      <td>0.670</td>\n",
       "      <td>182653.0</td>\n",
       "      <td>0.351</td>\n",
       "      <td>0.017600</td>\n",
       "      <td>D</td>\n",
       "      <td>0.115</td>\n",
       "      <td>-16.842</td>\n",
       "      <td>Major</td>\n",
       "      <td>0.0463</td>\n",
       "      <td>101.384</td>\n",
       "      <td>4-Apr</td>\n",
       "      <td>0.450</td>\n",
       "      <td>Country</td>\n",
       "    </tr>\n",
       "    <tr>\n",
       "      <th>1</th>\n",
       "      <td>26091.0</td>\n",
       "      <td>Toes Across The Floor</td>\n",
       "      <td>0.243</td>\n",
       "      <td>0.452</td>\n",
       "      <td>187133.0</td>\n",
       "      <td>0.670</td>\n",
       "      <td>0.000051</td>\n",
       "      <td>A</td>\n",
       "      <td>0.108</td>\n",
       "      <td>-8.392</td>\n",
       "      <td>Minor</td>\n",
       "      <td>0.0352</td>\n",
       "      <td>113.071</td>\n",
       "      <td>4-Apr</td>\n",
       "      <td>0.539</td>\n",
       "      <td>Rock</td>\n",
       "    </tr>\n",
       "  </tbody>\n",
       "</table>\n",
       "</div>"
      ],
      "text/plain": [
       "   instance_id             track_name  acousticness  danceability  \\\n",
       "0      25143.0             Highwayman         0.480         0.670   \n",
       "1      26091.0  Toes Across The Floor         0.243         0.452   \n",
       "\n",
       "   duration_ms  energy  instrumentalness key  liveness  loudness   mode  \\\n",
       "0     182653.0   0.351          0.017600   D     0.115   -16.842  Major   \n",
       "1     187133.0   0.670          0.000051   A     0.108    -8.392  Minor   \n",
       "\n",
       "   speechiness    tempo obtained_date  valence music_genre  \n",
       "0       0.0463  101.384         4-Apr    0.450     Country  \n",
       "1       0.0352  113.071         4-Apr    0.539        Rock  "
      ]
     },
     "metadata": {},
     "output_type": "display_data"
    },
    {
     "name": "stdout",
     "output_type": "stream",
     "text": [
      "<class 'pandas.core.frame.DataFrame'>\n",
      "RangeIndex: 20394 entries, 0 to 20393\n",
      "Data columns (total 16 columns):\n",
      " #   Column            Non-Null Count  Dtype  \n",
      "---  ------            --------------  -----  \n",
      " 0   instance_id       20394 non-null  float64\n",
      " 1   track_name        20394 non-null  object \n",
      " 2   acousticness      20394 non-null  float64\n",
      " 3   danceability      20394 non-null  float64\n",
      " 4   duration_ms       20394 non-null  float64\n",
      " 5   energy            20394 non-null  float64\n",
      " 6   instrumentalness  20394 non-null  float64\n",
      " 7   key               19659 non-null  object \n",
      " 8   liveness          20394 non-null  float64\n",
      " 9   loudness          20394 non-null  float64\n",
      " 10  mode              19888 non-null  object \n",
      " 11  speechiness       20394 non-null  float64\n",
      " 12  tempo             19952 non-null  float64\n",
      " 13  obtained_date     20394 non-null  object \n",
      " 14  valence           20394 non-null  float64\n",
      " 15  music_genre       20394 non-null  object \n",
      "dtypes: float64(11), object(5)\n",
      "memory usage: 2.5+ MB\n"
     ]
    },
    {
     "data": {
      "text/plain": [
       "None"
      ]
     },
     "metadata": {},
     "output_type": "display_data"
    },
    {
     "name": "stdout",
     "output_type": "stream",
     "text": [
      "Информация для тестирования:\n"
     ]
    },
    {
     "data": {
      "text/html": [
       "<div>\n",
       "<style scoped>\n",
       "    .dataframe tbody tr th:only-of-type {\n",
       "        vertical-align: middle;\n",
       "    }\n",
       "\n",
       "    .dataframe tbody tr th {\n",
       "        vertical-align: top;\n",
       "    }\n",
       "\n",
       "    .dataframe thead th {\n",
       "        text-align: right;\n",
       "    }\n",
       "</style>\n",
       "<table border=\"1\" class=\"dataframe\">\n",
       "  <thead>\n",
       "    <tr style=\"text-align: right;\">\n",
       "      <th></th>\n",
       "      <th>instance_id</th>\n",
       "      <th>track_name</th>\n",
       "      <th>acousticness</th>\n",
       "      <th>danceability</th>\n",
       "      <th>duration_ms</th>\n",
       "      <th>energy</th>\n",
       "      <th>instrumentalness</th>\n",
       "      <th>key</th>\n",
       "      <th>liveness</th>\n",
       "      <th>loudness</th>\n",
       "      <th>mode</th>\n",
       "      <th>speechiness</th>\n",
       "      <th>tempo</th>\n",
       "      <th>obtained_date</th>\n",
       "      <th>valence</th>\n",
       "    </tr>\n",
       "  </thead>\n",
       "  <tbody>\n",
       "    <tr>\n",
       "      <th>0</th>\n",
       "      <td>48564</td>\n",
       "      <td>Low Class Conspiracy</td>\n",
       "      <td>0.301</td>\n",
       "      <td>0.757</td>\n",
       "      <td>146213.0</td>\n",
       "      <td>0.679</td>\n",
       "      <td>0.00000</td>\n",
       "      <td>A#</td>\n",
       "      <td>0.3030</td>\n",
       "      <td>-7.136</td>\n",
       "      <td>Minor</td>\n",
       "      <td>0.3560</td>\n",
       "      <td>90.361</td>\n",
       "      <td>4-Apr</td>\n",
       "      <td>0.895</td>\n",
       "    </tr>\n",
       "    <tr>\n",
       "      <th>1</th>\n",
       "      <td>72394</td>\n",
       "      <td>The Hunter</td>\n",
       "      <td>0.538</td>\n",
       "      <td>0.256</td>\n",
       "      <td>240360.0</td>\n",
       "      <td>0.523</td>\n",
       "      <td>0.00832</td>\n",
       "      <td>G#</td>\n",
       "      <td>0.0849</td>\n",
       "      <td>-5.175</td>\n",
       "      <td>Major</td>\n",
       "      <td>0.0294</td>\n",
       "      <td>78.385</td>\n",
       "      <td>4-Apr</td>\n",
       "      <td>0.318</td>\n",
       "    </tr>\n",
       "  </tbody>\n",
       "</table>\n",
       "</div>"
      ],
      "text/plain": [
       "   instance_id            track_name  acousticness  danceability  duration_ms  \\\n",
       "0        48564  Low Class Conspiracy         0.301         0.757     146213.0   \n",
       "1        72394            The Hunter         0.538         0.256     240360.0   \n",
       "\n",
       "   energy  instrumentalness key  liveness  loudness   mode  speechiness  \\\n",
       "0   0.679           0.00000  A#    0.3030    -7.136  Minor       0.3560   \n",
       "1   0.523           0.00832  G#    0.0849    -5.175  Major       0.0294   \n",
       "\n",
       "    tempo obtained_date  valence  \n",
       "0  90.361         4-Apr    0.895  \n",
       "1  78.385         4-Apr    0.318  "
      ]
     },
     "metadata": {},
     "output_type": "display_data"
    },
    {
     "name": "stdout",
     "output_type": "stream",
     "text": [
      "<class 'pandas.core.frame.DataFrame'>\n",
      "RangeIndex: 5099 entries, 0 to 5098\n",
      "Data columns (total 15 columns):\n",
      " #   Column            Non-Null Count  Dtype  \n",
      "---  ------            --------------  -----  \n",
      " 0   instance_id       5099 non-null   int64  \n",
      " 1   track_name        5099 non-null   object \n",
      " 2   acousticness      5099 non-null   float64\n",
      " 3   danceability      5099 non-null   float64\n",
      " 4   duration_ms       5099 non-null   float64\n",
      " 5   energy            5099 non-null   float64\n",
      " 6   instrumentalness  5099 non-null   float64\n",
      " 7   key               4941 non-null   object \n",
      " 8   liveness          5099 non-null   float64\n",
      " 9   loudness          5099 non-null   float64\n",
      " 10  mode              4950 non-null   object \n",
      " 11  speechiness       5099 non-null   float64\n",
      " 12  tempo             4978 non-null   float64\n",
      " 13  obtained_date     5099 non-null   object \n",
      " 14  valence           5099 non-null   float64\n",
      "dtypes: float64(10), int64(1), object(4)\n",
      "memory usage: 597.7+ KB\n"
     ]
    },
    {
     "data": {
      "text/plain": [
       "None"
      ]
     },
     "metadata": {},
     "output_type": "display_data"
    }
   ],
   "source": [
    "# загрузка информации для обучения:\n",
    "try:\n",
    "    train = pd.read_csv('data/train.csv')\n",
    "    print('Информация для обучения:')\n",
    "    display(train.head(2))\n",
    "    display(train.info())\n",
    "except:\n",
    "    print('Информация для обучения не доступна')\n",
    "    \n",
    "# загрузка информации для тестирования:\n",
    "try:\n",
    "    test = pd.read_csv('data/test.csv')\n",
    "    print('Информация для тестирования:')\n",
    "    display(test.head(2))\n",
    "    display(test.info())\n",
    "except:\n",
    "    print('Информация для тестирования не доступна')"
   ]
  },
  {
   "cell_type": "markdown",
   "id": "1e2731c6",
   "metadata": {},
   "source": [
    "<div style=\"padding:0px 20px 10px;\n",
    "            color:#004346;\n",
    "            font-size:15px;\n",
    "            display:fill;\n",
    "            text-align:center;\n",
    "            border-radius:20px;\n",
    "            border: 5px double;\n",
    "            border-color:#201E20;\n",
    "            background-color: #E8F1F2;\n",
    "            overflow:hidden;\n",
    "            font-weight:400\">\n",
    "\n",
    "# Анализ данных\n",
    "\n",
    "</div>\n",
    "\n",
    "- `obtained_date`: дата загрузки в сервис, не может влиять на жанр, удаляем этот признак.\n",
    "- `valence`: привлекательность произведения для пользователей сервиса, так же является субективной мерой, исключаем из дальнейшего анализа,\n",
    "- `instance_id`: уникальный идентификатор трека, после проверки на уникальность, и преобразования в цельночисленный формат будут переведены в индекс."
   ]
  },
  {
   "cell_type": "code",
   "execution_count": 3,
   "id": "2377ff5e",
   "metadata": {},
   "outputs": [],
   "source": [
    "# удаляем столбцы 'obtained_date' и 'valence' из обучающего и тестового наборов данных\n",
    "train = train.drop(['obtained_date', 'valence'], axis=1)\n",
    "test = test.drop(['obtained_date', 'valence'], axis=1)"
   ]
  },
  {
   "cell_type": "markdown",
   "id": "cd18f024",
   "metadata": {},
   "source": [
    "__Проверим дубликатов в данных:__"
   ]
  },
  {
   "cell_type": "code",
   "execution_count": 4,
   "id": "7ea3882d",
   "metadata": {},
   "outputs": [
    {
     "name": "stdout",
     "output_type": "stream",
     "text": [
      "Общее количество дубликатов в данных: 0\n"
     ]
    }
   ],
   "source": [
    "print(f'Общее количество дубликатов в данных: {sum(df.duplicated().sum() for df in [train, test])}')"
   ]
  },
  {
   "cell_type": "markdown",
   "id": "93b0afd8",
   "metadata": {},
   "source": [
    "__Проверим уникальность значений признака `instance_id`__"
   ]
  },
  {
   "cell_type": "code",
   "execution_count": 5,
   "id": "78dab3a0",
   "metadata": {},
   "outputs": [
    {
     "name": "stdout",
     "output_type": "stream",
     "text": [
      "Признак instance_id содержит уникальные значения в обоих датасетах\n"
     ]
    }
   ],
   "source": [
    "if all(len(df['instance_id'].unique()) == len(df) for df in [train, test]):\n",
    "    print('Признак instance_id содержит уникальные значения в обоих датасетах')\n",
    "else: print('Признак instance_id содержит дублирующиеся значения')"
   ]
  },
  {
   "cell_type": "code",
   "execution_count": 6,
   "id": "3aa55ca7",
   "metadata": {},
   "outputs": [],
   "source": [
    "# преобразуем тип данных столбца 'instance_id' в целочисленный\n",
    "train['instance_id'] = train['instance_id'].astype(int)\n",
    "test['instance_id'] = test['instance_id'].astype(int)\n",
    "# устанавливаем признак 'instance_id' в качестве индекса для обучающего и тестового наборов данных\n",
    "train.set_index('instance_id', inplace=True)\n",
    "test.set_index('instance_id', inplace=True)"
   ]
  },
  {
   "cell_type": "markdown",
   "id": "03f42e4f",
   "metadata": {},
   "source": [
    ">- Исключены из анализа признаки `obtained_date` и `valence`\n",
    ">- Признак `instance_id` установлен в качестве индекса"
   ]
  },
  {
   "cell_type": "markdown",
   "id": "9738952a",
   "metadata": {},
   "source": [
    "<div style=\"padding:0px 20px 10px;\n",
    "            color:#004346;\n",
    "            font-size:15px;\n",
    "            display:fill;\n",
    "            text-align:center;\n",
    "            border-radius:20px;\n",
    "            border: 5px double;\n",
    "            border-color:#201E20;\n",
    "            background-color: #E8F1F2;\n",
    "            overflow:hidden;\n",
    "            font-weight:400\">\n",
    "\n",
    "## Анализ числовых признаков\n",
    "\n",
    "</div>"
   ]
  },
  {
   "cell_type": "code",
   "execution_count": 7,
   "id": "43a957ca",
   "metadata": {},
   "outputs": [
    {
     "data": {
      "text/html": [
       "<div>\n",
       "<style scoped>\n",
       "    .dataframe tbody tr th:only-of-type {\n",
       "        vertical-align: middle;\n",
       "    }\n",
       "\n",
       "    .dataframe tbody tr th {\n",
       "        vertical-align: top;\n",
       "    }\n",
       "\n",
       "    .dataframe thead th {\n",
       "        text-align: right;\n",
       "    }\n",
       "</style>\n",
       "<table border=\"1\" class=\"dataframe\">\n",
       "  <thead>\n",
       "    <tr style=\"text-align: right;\">\n",
       "      <th></th>\n",
       "      <th>count</th>\n",
       "      <th>mean</th>\n",
       "      <th>std</th>\n",
       "      <th>min</th>\n",
       "      <th>25%</th>\n",
       "      <th>50%</th>\n",
       "      <th>75%</th>\n",
       "      <th>max</th>\n",
       "    </tr>\n",
       "  </thead>\n",
       "  <tbody>\n",
       "    <tr>\n",
       "      <th>acousticness</th>\n",
       "      <td>20394.0</td>\n",
       "      <td>0.274783</td>\n",
       "      <td>0.321643</td>\n",
       "      <td>0.00000</td>\n",
       "      <td>0.01520</td>\n",
       "      <td>0.120000</td>\n",
       "      <td>0.470000</td>\n",
       "      <td>0.996</td>\n",
       "    </tr>\n",
       "    <tr>\n",
       "      <th>danceability</th>\n",
       "      <td>20394.0</td>\n",
       "      <td>0.561983</td>\n",
       "      <td>0.171898</td>\n",
       "      <td>0.06000</td>\n",
       "      <td>0.45100</td>\n",
       "      <td>0.570000</td>\n",
       "      <td>0.683000</td>\n",
       "      <td>0.978</td>\n",
       "    </tr>\n",
       "    <tr>\n",
       "      <th>duration_ms</th>\n",
       "      <td>20394.0</td>\n",
       "      <td>220375.425272</td>\n",
       "      <td>126728.326142</td>\n",
       "      <td>-1.00000</td>\n",
       "      <td>177517.00000</td>\n",
       "      <td>219533.000000</td>\n",
       "      <td>266000.000000</td>\n",
       "      <td>4497994.000</td>\n",
       "    </tr>\n",
       "    <tr>\n",
       "      <th>energy</th>\n",
       "      <td>20394.0</td>\n",
       "      <td>0.625276</td>\n",
       "      <td>0.251238</td>\n",
       "      <td>0.00101</td>\n",
       "      <td>0.47000</td>\n",
       "      <td>0.666000</td>\n",
       "      <td>0.830000</td>\n",
       "      <td>0.999</td>\n",
       "    </tr>\n",
       "    <tr>\n",
       "      <th>instrumentalness</th>\n",
       "      <td>20394.0</td>\n",
       "      <td>0.159989</td>\n",
       "      <td>0.306503</td>\n",
       "      <td>0.00000</td>\n",
       "      <td>0.00000</td>\n",
       "      <td>0.000144</td>\n",
       "      <td>0.084475</td>\n",
       "      <td>0.996</td>\n",
       "    </tr>\n",
       "    <tr>\n",
       "      <th>liveness</th>\n",
       "      <td>20394.0</td>\n",
       "      <td>0.198540</td>\n",
       "      <td>0.166742</td>\n",
       "      <td>0.01360</td>\n",
       "      <td>0.09730</td>\n",
       "      <td>0.130000</td>\n",
       "      <td>0.253000</td>\n",
       "      <td>1.000</td>\n",
       "    </tr>\n",
       "    <tr>\n",
       "      <th>loudness</th>\n",
       "      <td>20394.0</td>\n",
       "      <td>-8.552998</td>\n",
       "      <td>5.499917</td>\n",
       "      <td>-44.40600</td>\n",
       "      <td>-10.25575</td>\n",
       "      <td>-7.052000</td>\n",
       "      <td>-5.054000</td>\n",
       "      <td>3.744</td>\n",
       "    </tr>\n",
       "    <tr>\n",
       "      <th>speechiness</th>\n",
       "      <td>20394.0</td>\n",
       "      <td>0.091352</td>\n",
       "      <td>0.097735</td>\n",
       "      <td>0.02230</td>\n",
       "      <td>0.03560</td>\n",
       "      <td>0.049050</td>\n",
       "      <td>0.095575</td>\n",
       "      <td>0.942</td>\n",
       "    </tr>\n",
       "    <tr>\n",
       "      <th>tempo</th>\n",
       "      <td>19952.0</td>\n",
       "      <td>120.942522</td>\n",
       "      <td>30.427590</td>\n",
       "      <td>34.76500</td>\n",
       "      <td>95.92175</td>\n",
       "      <td>120.012500</td>\n",
       "      <td>141.966250</td>\n",
       "      <td>220.041</td>\n",
       "    </tr>\n",
       "  </tbody>\n",
       "</table>\n",
       "</div>"
      ],
      "text/plain": [
       "                    count           mean            std       min  \\\n",
       "acousticness      20394.0       0.274783       0.321643   0.00000   \n",
       "danceability      20394.0       0.561983       0.171898   0.06000   \n",
       "duration_ms       20394.0  220375.425272  126728.326142  -1.00000   \n",
       "energy            20394.0       0.625276       0.251238   0.00101   \n",
       "instrumentalness  20394.0       0.159989       0.306503   0.00000   \n",
       "liveness          20394.0       0.198540       0.166742   0.01360   \n",
       "loudness          20394.0      -8.552998       5.499917 -44.40600   \n",
       "speechiness       20394.0       0.091352       0.097735   0.02230   \n",
       "tempo             19952.0     120.942522      30.427590  34.76500   \n",
       "\n",
       "                           25%            50%            75%          max  \n",
       "acousticness           0.01520       0.120000       0.470000        0.996  \n",
       "danceability           0.45100       0.570000       0.683000        0.978  \n",
       "duration_ms       177517.00000  219533.000000  266000.000000  4497994.000  \n",
       "energy                 0.47000       0.666000       0.830000        0.999  \n",
       "instrumentalness       0.00000       0.000144       0.084475        0.996  \n",
       "liveness               0.09730       0.130000       0.253000        1.000  \n",
       "loudness             -10.25575      -7.052000      -5.054000        3.744  \n",
       "speechiness            0.03560       0.049050       0.095575        0.942  \n",
       "tempo                 95.92175     120.012500     141.966250      220.041  "
      ]
     },
     "execution_count": 7,
     "metadata": {},
     "output_type": "execute_result"
    }
   ],
   "source": [
    "# общая информация\n",
    "train.describe().T"
   ]
  },
  {
   "cell_type": "code",
   "execution_count": 8,
   "id": "3b926f3c",
   "metadata": {},
   "outputs": [
    {
     "data": {
      "image/png": "[encoded data removed]",
      "text/plain": [
       "<Figure size 1500x1000 with 9 Axes>"
      ]
     },
     "metadata": {},
     "output_type": "display_data"
    }
   ],
   "source": [
    "sns.set(style=\"whitegrid\")\n",
    "fig, axes = plt.subplots(3, 3, figsize=(15, 10))\n",
    "\n",
    "# гистограмма для 'acousticness'\n",
    "sns.histplot(train['acousticness'], ax=axes[0, 0])\n",
    "axes[0, 0].set_title('Acousticness Distribution')\n",
    "\n",
    "# гистограмма для для 'danceability'\n",
    "sns.histplot(train['danceability'], ax=axes[0, 1])\n",
    "axes[0, 1].set_title('Danceability Distribution')\n",
    "\n",
    "# гистограмма для для 'duration_ms'\n",
    "sns.histplot(train['duration_ms'], ax=axes[0, 2])\n",
    "axes[0, 2].set_title('Duration Distribution')\n",
    "\n",
    "# гистограмма для для 'energy'\n",
    "sns.histplot(train['energy'], ax=axes[1, 0])\n",
    "axes[1, 0].set_title('Energy Distribution')\n",
    "\n",
    "# гистограмма для для 'instrumentalness'\n",
    "sns.histplot(train['instrumentalness'], ax=axes[1, 1])\n",
    "axes[1, 1].set_title('Instrumentalness Distribution')\n",
    "\n",
    "# гистограмма для для 'liveness'\n",
    "sns.histplot(train['liveness'], ax=axes[1, 2])\n",
    "axes[1, 2].set_title('Liveness Distribution')\n",
    "\n",
    "# гистограмма для для 'loudness'\n",
    "sns.histplot(train['loudness'], ax=axes[2, 0])\n",
    "axes[2, 0].set_title('Loudness Distribution')\n",
    "\n",
    "# гистограмма для для 'speechiness'\n",
    "sns.histplot(train['speechiness'], ax=axes[2, 1])\n",
    "axes[2, 1].set_title('Speechiness Distribution')\n",
    "\n",
    "# гистограмма для для 'tempo'\n",
    "sns.histplot(train['tempo'], ax=axes[2, 2])\n",
    "axes[2, 2].set_title('Tempo Distribution')\n",
    "\n",
    "# графики\n",
    "plt.tight_layout()\n",
    "plt.show()\n"
   ]
  },
  {
   "cell_type": "markdown",
   "id": "ce6f7455",
   "metadata": {},
   "source": [
    "### duration_ms: продолжительность в милисекундах\n",
    "\n",
    "В данных присутствуют отрицательные значения и крайне длинные треки:"
   ]
  },
  {
   "cell_type": "code",
   "execution_count": 12,
   "id": "1adf2450",
   "metadata": {},
   "outputs": [
    {
     "data": {
      "image/png": "[encoded data removed]",
      "text/plain": [
       "<Figure size 1200x300 with 1 Axes>"
      ]
     },
     "metadata": {},
     "output_type": "display_data"
    }
   ],
   "source": [
    "plt.figure(figsize=(12, 3))\n",
    "\n",
    "sns.boxplot(x=train['duration_ms'], orient='h', color='skyblue', width=0.5)\n",
    "plt.title('Продолжительность в милисекундах')\n",
    "plt.grid(True)\n",
    "plt.show()"
   ]
  },
  {
   "cell_type": "code",
   "execution_count": 13,
   "id": "15acac8b",
   "metadata": {},
   "outputs": [
    {
     "name": "stdout",
     "output_type": "stream",
     "text": [
      "Порог аномальных значений: 531449 милисекунд\n",
      "Нижний порог аномальных значений: 551 миллисекунд\n"
     ]
    }
   ],
   "source": [
    "# рассчет верхнего порога аномальных значений\n",
    "q1 = train['duration_ms'].quantile(0.25)\n",
    "q3 = train['duration_ms'].quantile(0.75)\n",
    "upper_threshold = int(q3+3*(q3-q1))\n",
    "print(f'Порог аномальных значений: {upper_threshold} милисекунд')\n",
    "# рассчитываем нижний порог для аномальных значений\n",
    "lower_threshold = q1 - 2*(q3 - q1)\n",
    "print(f'Нижний порог аномальных значений: {int(lower_threshold)} миллисекунд')"
   ]
  },
  {
   "cell_type": "markdown",
   "id": "b55d8ae7",
   "metadata": {},
   "source": [
    "__Обработка аномальных значений__"
   ]
  },
  {
   "cell_type": "code",
   "execution_count": 14,
   "id": "d4739bee",
   "metadata": {},
   "outputs": [],
   "source": [
    "# заменяем значения ниже нижнего порога\n",
    "train['duration_ms'] = np.where(train['duration_ms'] < lower_threshold, train['duration_ms'].median(), train['duration_ms'])\n",
    "# заменяем значения выше верхнего порога\n",
    "train['duration_ms'] = np.where(train['duration_ms'] > upper_threshold, train['duration_ms'].median(), train['duration_ms'])\n",
    "\n",
    "# заменяем значения ниже нижнего порога\n",
    "test['duration_ms'] = np.where(test['duration_ms'] < lower_threshold, test['duration_ms'].median(), test['duration_ms'])\n",
    "# заменяем значения выше верхнего порога\n",
    "test['duration_ms'] = np.where(test['duration_ms'] > upper_threshold, test['duration_ms'].median(), test['duration_ms'])"
   ]
  },
  {
   "cell_type": "markdown",
   "id": "ba563aa0",
   "metadata": {},
   "source": [
    "__Преобразуем тип данных столбца 'duration_ms' в целочисленный__"
   ]
  },
  {
   "cell_type": "code",
   "execution_count": 15,
   "id": "e8af3684",
   "metadata": {},
   "outputs": [],
   "source": [
    "train['duration_ms'] = train['duration_ms'].astype(int)\n",
    "test['duration_ms'] = test['duration_ms'].astype(int)"
   ]
  },
  {
   "cell_type": "markdown",
   "id": "595dec23",
   "metadata": {},
   "source": [
    ">Все остальные числовые данные, включая \"acousticness\", \"danceability\", \"energy\", \"instrumentalness\", \"liveness\", \"loudness\", и \"speechiness\", \"tempo\", укладываются в пределы допустимых значений и варьируются в рамках нормальных диапазонов для соответствующих музыкальных характеристик. Нет никаких явных аномалий в этих признаках, и они соответствуют типичным значениям для музыкальных данных."
   ]
  },
  {
   "cell_type": "markdown",
   "id": "d081d123",
   "metadata": {},
   "source": [
    "<div style=\"padding:0px 20px 10px;\n",
    "            color:#004346;\n",
    "            font-size:15px;\n",
    "            display:fill;\n",
    "            text-align:center;\n",
    "            border-radius:20px;\n",
    "            border: 5px double;\n",
    "            border-color:#201E20;\n",
    "            background-color: #E8F1F2;\n",
    "            overflow:hidden;\n",
    "            font-weight:400\">\n",
    "\n",
    "## Анализ категориальные признаков\n",
    "\n",
    "</div>\n",
    "\n",
    "__Проверим уникальные значения в категориальных признаках__"
   ]
  },
  {
   "cell_type": "code",
   "execution_count": 16,
   "id": "d494fb2c",
   "metadata": {},
   "outputs": [
    {
     "data": {
      "text/html": [
       "<div>\n",
       "<style scoped>\n",
       "    .dataframe tbody tr th:only-of-type {\n",
       "        vertical-align: middle;\n",
       "    }\n",
       "\n",
       "    .dataframe tbody tr th {\n",
       "        vertical-align: top;\n",
       "    }\n",
       "\n",
       "    .dataframe thead th {\n",
       "        text-align: right;\n",
       "    }\n",
       "</style>\n",
       "<table border=\"1\" class=\"dataframe\">\n",
       "  <thead>\n",
       "    <tr style=\"text-align: right;\">\n",
       "      <th></th>\n",
       "      <th>count</th>\n",
       "      <th>unique</th>\n",
       "      <th>top</th>\n",
       "      <th>freq</th>\n",
       "    </tr>\n",
       "  </thead>\n",
       "  <tbody>\n",
       "    <tr>\n",
       "      <th>track_name</th>\n",
       "      <td>20394</td>\n",
       "      <td>18643</td>\n",
       "      <td>Home</td>\n",
       "      <td>11</td>\n",
       "    </tr>\n",
       "    <tr>\n",
       "      <th>key</th>\n",
       "      <td>19659</td>\n",
       "      <td>12</td>\n",
       "      <td>G</td>\n",
       "      <td>2304</td>\n",
       "    </tr>\n",
       "    <tr>\n",
       "      <th>mode</th>\n",
       "      <td>19888</td>\n",
       "      <td>2</td>\n",
       "      <td>Major</td>\n",
       "      <td>12828</td>\n",
       "    </tr>\n",
       "    <tr>\n",
       "      <th>music_genre</th>\n",
       "      <td>20394</td>\n",
       "      <td>10</td>\n",
       "      <td>Blues</td>\n",
       "      <td>2858</td>\n",
       "    </tr>\n",
       "  </tbody>\n",
       "</table>\n",
       "</div>"
      ],
      "text/plain": [
       "             count unique    top   freq\n",
       "track_name   20394  18643   Home     11\n",
       "key          19659     12      G   2304\n",
       "mode         19888      2  Major  12828\n",
       "music_genre  20394     10  Blues   2858"
      ]
     },
     "metadata": {},
     "output_type": "display_data"
    }
   ],
   "source": [
    "# общая информация \n",
    "display(train.describe(include=[object]).T)"
   ]
  },
  {
   "cell_type": "markdown",
   "id": "026560f5",
   "metadata": {},
   "source": [
    "__Уникальные значения признака `key`__"
   ]
  },
  {
   "cell_type": "code",
   "execution_count": 17,
   "id": "2fa542ee",
   "metadata": {},
   "outputs": [
    {
     "data": {
      "text/plain": [
       "array(['D', 'A', 'E', 'G#', 'C', 'D#', 'A#', 'F', 'F#', nan, 'G', 'C#',\n",
       "       'B'], dtype=object)"
      ]
     },
     "execution_count": 17,
     "metadata": {},
     "output_type": "execute_result"
    }
   ],
   "source": [
    "train['key'].unique()"
   ]
  },
  {
   "cell_type": "markdown",
   "id": "fab0f505",
   "metadata": {},
   "source": [
    ">Эти значения представляют собой ноты или аккорды, которые могут быть частью музыкальных произведений. Они соответствуют музыкальным элементам и могут использоваться для определения характера и мелодических особенностей треков."
   ]
  },
  {
   "cell_type": "markdown",
   "id": "3beb9a63",
   "metadata": {},
   "source": [
    "### Баланс целевой переменной"
   ]
  },
  {
   "cell_type": "code",
   "execution_count": 22,
   "id": "6d76961d",
   "metadata": {},
   "outputs": [
    {
     "data": {
      "image/png": "[encoded data removed]",
      "text/plain": [
       "<Figure size 800x400 with 1 Axes>"
      ]
     },
     "metadata": {},
     "output_type": "display_data"
    }
   ],
   "source": [
    "# количество каждого класса\n",
    "data = train['music_genre'].value_counts()\n",
    "# метоки классов\n",
    "labels = data.index\n",
    "sizes = data.values\n",
    "\n",
    "plt.figure(figsize=(8, 4))\n",
    "sns.barplot(x=data.values, y=labels, palette='pastel')\n",
    "plt.title('Баланс классов целевого признака \"music_genre\"')\n",
    "plt.xlabel('Количество')\n",
    "plt.ylabel('Жанр музыки')\n",
    "plt.show()"
   ]
  },
  {
   "cell_type": "markdown",
   "id": "14fb9112",
   "metadata": {},
   "source": [
    ">Баланс классов для целевого признака \"music_genre\" в тренировочных данных не показывает сильного дисбаланса. Визуализация круговой диаграммы показывает, что классы достаточно равномерно представлены в данных, что является положительным для задачи классификации. Нет явного доминирования одного класса над другим, что упрощает обучение модели и ее способность делать предсказания для разных жанров музыки."
   ]
  },
  {
   "cell_type": "markdown",
   "id": "66048652",
   "metadata": {},
   "source": [
    "<div style=\"padding:0px 20px 10px;\n",
    "            color:#004346;\n",
    "            font-size:15px;\n",
    "            display:fill;\n",
    "            text-align:center;\n",
    "            border-radius:20px;\n",
    "            border: 5px double;\n",
    "            border-color:#201E20;\n",
    "            background-color: #E8F1F2;\n",
    "            overflow:hidden;\n",
    "            font-weight:400\">\n",
    "\n",
    "## Пропуски в данных\n",
    "\n",
    "</div>"
   ]
  },
  {
   "cell_type": "code",
   "execution_count": 23,
   "id": "4bd931d9",
   "metadata": {},
   "outputs": [],
   "source": [
    "# функция для рассчето количества пропусков\n",
    "def isna_sum(df):\n",
    "    print('Признаки содержащие пропуски:')\n",
    "    for col in df.columns:\n",
    "        if df[col].isna().sum()>0:\n",
    "            print(f'{col}: {df[col].isna().mean():.2%}')"
   ]
  },
  {
   "cell_type": "code",
   "execution_count": 24,
   "id": "20794ac3",
   "metadata": {},
   "outputs": [
    {
     "name": "stdout",
     "output_type": "stream",
     "text": [
      "Признаки содержащие пропуски:\n",
      "key: 3.60%\n",
      "mode: 2.48%\n",
      "tempo: 2.17%\n"
     ]
    }
   ],
   "source": [
    "# пропуски в данных для обучения\n",
    "isna_sum(train)"
   ]
  },
  {
   "cell_type": "code",
   "execution_count": 25,
   "id": "d95de97f",
   "metadata": {},
   "outputs": [
    {
     "name": "stdout",
     "output_type": "stream",
     "text": [
      "Признаки содержащие пропуски:\n",
      "key: 3.10%\n",
      "mode: 2.92%\n",
      "tempo: 2.37%\n"
     ]
    }
   ],
   "source": [
    "# пропуски в данных для тестирования\n",
    "isna_sum(test)"
   ]
  },
  {
   "cell_type": "markdown",
   "id": "dfc7004a",
   "metadata": {},
   "source": [
    ">Пропуски в данных присутствуют как в тренировочном, так и тестовом наборе данных.\n",
    ">С учетом того, что удалить данные из тестового набора данных в данной задаче нельзя, попробуем выработать стратегию по заполнению пропусков:\n",
    ">- создадим копию тренировочного датасета\n",
    ">- удалим пропуски\n",
    ">- проверим взаимосвязь признаков"
   ]
  },
  {
   "cell_type": "code",
   "execution_count": 26,
   "id": "d90ef814",
   "metadata": {},
   "outputs": [
    {
     "name": "stdout",
     "output_type": "stream",
     "text": [
      "Общее количество пропусков в данных: 0\n"
     ]
    }
   ],
   "source": [
    "# копия датасета без пропусков\n",
    "df = train.dropna()\n",
    "\n",
    "print(f'Общее количество пропусков в данных: {sum(df.isna().sum())}')"
   ]
  },
  {
   "cell_type": "markdown",
   "id": "8ce619be",
   "metadata": {},
   "source": [
    "### Корреляции между признаками\n",
    "\n",
    "Метод PHIK - это статистический метод для определения взаимосвязей между категориальными переменными. Он разработан на основе корреляционного анализа, но специально адаптирован для работы с категориальными данными, которые обычно представлены в виде таблиц сопряженности."
   ]
  },
  {
   "cell_type": "code",
   "execution_count": 27,
   "id": "5984187c",
   "metadata": {},
   "outputs": [
    {
     "name": "stdout",
     "output_type": "stream",
     "text": [
      "interval columns not set, guessing: ['acousticness', 'danceability', 'duration_ms', 'energy', 'instrumentalness', 'liveness', 'loudness', 'speechiness', 'tempo']\n"
     ]
    },
    {
     "data": {
      "text/html": [
       "<div>\n",
       "<style scoped>\n",
       "    .dataframe tbody tr th:only-of-type {\n",
       "        vertical-align: middle;\n",
       "    }\n",
       "\n",
       "    .dataframe tbody tr th {\n",
       "        vertical-align: top;\n",
       "    }\n",
       "\n",
       "    .dataframe thead th {\n",
       "        text-align: right;\n",
       "    }\n",
       "</style>\n",
       "<table border=\"1\" class=\"dataframe\">\n",
       "  <thead>\n",
       "    <tr style=\"text-align: right;\">\n",
       "      <th></th>\n",
       "      <th>acousticness</th>\n",
       "      <th>danceability</th>\n",
       "      <th>duration_ms</th>\n",
       "      <th>energy</th>\n",
       "      <th>instrumentalness</th>\n",
       "      <th>key</th>\n",
       "      <th>liveness</th>\n",
       "      <th>loudness</th>\n",
       "      <th>mode</th>\n",
       "      <th>speechiness</th>\n",
       "      <th>tempo</th>\n",
       "      <th>music_genre</th>\n",
       "    </tr>\n",
       "  </thead>\n",
       "  <tbody>\n",
       "    <tr>\n",
       "      <th>acousticness</th>\n",
       "      <td>1.000000</td>\n",
       "      <td>0.458387</td>\n",
       "      <td>0.227117</td>\n",
       "      <td>0.766578</td>\n",
       "      <td>0.442590</td>\n",
       "      <td>0.096909</td>\n",
       "      <td>0.188614</td>\n",
       "      <td>0.710162</td>\n",
       "      <td>0.026286</td>\n",
       "      <td>0.207558</td>\n",
       "      <td>0.335410</td>\n",
       "      <td>0.658403</td>\n",
       "    </tr>\n",
       "    <tr>\n",
       "      <th>danceability</th>\n",
       "      <td>0.458387</td>\n",
       "      <td>1.000000</td>\n",
       "      <td>0.215398</td>\n",
       "      <td>0.515209</td>\n",
       "      <td>0.339896</td>\n",
       "      <td>0.103118</td>\n",
       "      <td>0.132911</td>\n",
       "      <td>0.480074</td>\n",
       "      <td>0.100629</td>\n",
       "      <td>0.336219</td>\n",
       "      <td>0.407936</td>\n",
       "      <td>0.623712</td>\n",
       "    </tr>\n",
       "    <tr>\n",
       "      <th>duration_ms</th>\n",
       "      <td>0.227117</td>\n",
       "      <td>0.215398</td>\n",
       "      <td>1.000000</td>\n",
       "      <td>0.241151</td>\n",
       "      <td>0.300145</td>\n",
       "      <td>0.023230</td>\n",
       "      <td>0.118015</td>\n",
       "      <td>0.293464</td>\n",
       "      <td>0.040955</td>\n",
       "      <td>0.184906</td>\n",
       "      <td>0.102494</td>\n",
       "      <td>0.341913</td>\n",
       "    </tr>\n",
       "    <tr>\n",
       "      <th>energy</th>\n",
       "      <td>0.766578</td>\n",
       "      <td>0.515209</td>\n",
       "      <td>0.241151</td>\n",
       "      <td>1.000000</td>\n",
       "      <td>0.438574</td>\n",
       "      <td>0.090880</td>\n",
       "      <td>0.260662</td>\n",
       "      <td>0.838452</td>\n",
       "      <td>0.033019</td>\n",
       "      <td>0.239170</td>\n",
       "      <td>0.388336</td>\n",
       "      <td>0.671806</td>\n",
       "    </tr>\n",
       "    <tr>\n",
       "      <th>instrumentalness</th>\n",
       "      <td>0.442590</td>\n",
       "      <td>0.339896</td>\n",
       "      <td>0.300145</td>\n",
       "      <td>0.438574</td>\n",
       "      <td>1.000000</td>\n",
       "      <td>0.029922</td>\n",
       "      <td>0.138975</td>\n",
       "      <td>0.498535</td>\n",
       "      <td>0.087474</td>\n",
       "      <td>0.190471</td>\n",
       "      <td>0.217914</td>\n",
       "      <td>0.568069</td>\n",
       "    </tr>\n",
       "    <tr>\n",
       "      <th>key</th>\n",
       "      <td>0.096909</td>\n",
       "      <td>0.103118</td>\n",
       "      <td>0.023230</td>\n",
       "      <td>0.090880</td>\n",
       "      <td>0.029922</td>\n",
       "      <td>1.000000</td>\n",
       "      <td>0.057933</td>\n",
       "      <td>0.080208</td>\n",
       "      <td>0.357610</td>\n",
       "      <td>0.117888</td>\n",
       "      <td>0.039206</td>\n",
       "      <td>0.170758</td>\n",
       "    </tr>\n",
       "    <tr>\n",
       "      <th>liveness</th>\n",
       "      <td>0.188614</td>\n",
       "      <td>0.132911</td>\n",
       "      <td>0.118015</td>\n",
       "      <td>0.260662</td>\n",
       "      <td>0.138975</td>\n",
       "      <td>0.057933</td>\n",
       "      <td>1.000000</td>\n",
       "      <td>0.202501</td>\n",
       "      <td>0.031851</td>\n",
       "      <td>0.140039</td>\n",
       "      <td>0.082196</td>\n",
       "      <td>0.207030</td>\n",
       "    </tr>\n",
       "    <tr>\n",
       "      <th>loudness</th>\n",
       "      <td>0.710162</td>\n",
       "      <td>0.480074</td>\n",
       "      <td>0.293464</td>\n",
       "      <td>0.838452</td>\n",
       "      <td>0.498535</td>\n",
       "      <td>0.080208</td>\n",
       "      <td>0.202501</td>\n",
       "      <td>1.000000</td>\n",
       "      <td>0.019127</td>\n",
       "      <td>0.208318</td>\n",
       "      <td>0.357106</td>\n",
       "      <td>0.679765</td>\n",
       "    </tr>\n",
       "    <tr>\n",
       "      <th>mode</th>\n",
       "      <td>0.026286</td>\n",
       "      <td>0.100629</td>\n",
       "      <td>0.040955</td>\n",
       "      <td>0.033019</td>\n",
       "      <td>0.087474</td>\n",
       "      <td>0.357610</td>\n",
       "      <td>0.031851</td>\n",
       "      <td>0.019127</td>\n",
       "      <td>1.000000</td>\n",
       "      <td>0.107284</td>\n",
       "      <td>0.008667</td>\n",
       "      <td>0.295554</td>\n",
       "    </tr>\n",
       "    <tr>\n",
       "      <th>speechiness</th>\n",
       "      <td>0.207558</td>\n",
       "      <td>0.336219</td>\n",
       "      <td>0.184906</td>\n",
       "      <td>0.239170</td>\n",
       "      <td>0.190471</td>\n",
       "      <td>0.117888</td>\n",
       "      <td>0.140039</td>\n",
       "      <td>0.208318</td>\n",
       "      <td>0.107284</td>\n",
       "      <td>1.000000</td>\n",
       "      <td>0.185911</td>\n",
       "      <td>0.497169</td>\n",
       "    </tr>\n",
       "    <tr>\n",
       "      <th>tempo</th>\n",
       "      <td>0.335410</td>\n",
       "      <td>0.407936</td>\n",
       "      <td>0.102494</td>\n",
       "      <td>0.388336</td>\n",
       "      <td>0.217914</td>\n",
       "      <td>0.039206</td>\n",
       "      <td>0.082196</td>\n",
       "      <td>0.357106</td>\n",
       "      <td>0.008667</td>\n",
       "      <td>0.185911</td>\n",
       "      <td>1.000000</td>\n",
       "      <td>0.334638</td>\n",
       "    </tr>\n",
       "    <tr>\n",
       "      <th>music_genre</th>\n",
       "      <td>0.658403</td>\n",
       "      <td>0.623712</td>\n",
       "      <td>0.341913</td>\n",
       "      <td>0.671806</td>\n",
       "      <td>0.568069</td>\n",
       "      <td>0.170758</td>\n",
       "      <td>0.207030</td>\n",
       "      <td>0.679765</td>\n",
       "      <td>0.295554</td>\n",
       "      <td>0.497169</td>\n",
       "      <td>0.334638</td>\n",
       "      <td>1.000000</td>\n",
       "    </tr>\n",
       "  </tbody>\n",
       "</table>\n",
       "</div>"
      ],
      "text/plain": [
       "                  acousticness  danceability  duration_ms    energy  \\\n",
       "acousticness          1.000000      0.458387     0.227117  0.766578   \n",
       "danceability          0.458387      1.000000     0.215398  0.515209   \n",
       "duration_ms           0.227117      0.215398     1.000000  0.241151   \n",
       "energy                0.766578      0.515209     0.241151  1.000000   \n",
       "instrumentalness      0.442590      0.339896     0.300145  0.438574   \n",
       "key                   0.096909      0.103118     0.023230  0.090880   \n",
       "liveness              0.188614      0.132911     0.118015  0.260662   \n",
       "loudness              0.710162      0.480074     0.293464  0.838452   \n",
       "mode                  0.026286      0.100629     0.040955  0.033019   \n",
       "speechiness           0.207558      0.336219     0.184906  0.239170   \n",
       "tempo                 0.335410      0.407936     0.102494  0.388336   \n",
       "music_genre           0.658403      0.623712     0.341913  0.671806   \n",
       "\n",
       "                  instrumentalness       key  liveness  loudness      mode  \\\n",
       "acousticness              0.442590  0.096909  0.188614  0.710162  0.026286   \n",
       "danceability              0.339896  0.103118  0.132911  0.480074  0.100629   \n",
       "duration_ms               0.300145  0.023230  0.118015  0.293464  0.040955   \n",
       "energy                    0.438574  0.090880  0.260662  0.838452  0.033019   \n",
       "instrumentalness          1.000000  0.029922  0.138975  0.498535  0.087474   \n",
       "key                       0.029922  1.000000  0.057933  0.080208  0.357610   \n",
       "liveness                  0.138975  0.057933  1.000000  0.202501  0.031851   \n",
       "loudness                  0.498535  0.080208  0.202501  1.000000  0.019127   \n",
       "mode                      0.087474  0.357610  0.031851  0.019127  1.000000   \n",
       "speechiness               0.190471  0.117888  0.140039  0.208318  0.107284   \n",
       "tempo                     0.217914  0.039206  0.082196  0.357106  0.008667   \n",
       "music_genre               0.568069  0.170758  0.207030  0.679765  0.295554   \n",
       "\n",
       "                  speechiness     tempo  music_genre  \n",
       "acousticness         0.207558  0.335410     0.658403  \n",
       "danceability         0.336219  0.407936     0.623712  \n",
       "duration_ms          0.184906  0.102494     0.341913  \n",
       "energy               0.239170  0.388336     0.671806  \n",
       "instrumentalness     0.190471  0.217914     0.568069  \n",
       "key                  0.117888  0.039206     0.170758  \n",
       "liveness             0.140039  0.082196     0.207030  \n",
       "loudness             0.208318  0.357106     0.679765  \n",
       "mode                 0.107284  0.008667     0.295554  \n",
       "speechiness          1.000000  0.185911     0.497169  \n",
       "tempo                0.185911  1.000000     0.334638  \n",
       "music_genre          0.497169  0.334638     1.000000  "
      ]
     },
     "metadata": {},
     "output_type": "display_data"
    }
   ],
   "source": [
    "phik_overview = df[[col for col in df.columns if col != 'track_name']].phik_matrix()\n",
    "display(phik_overview)"
   ]
  },
  {
   "cell_type": "code",
   "execution_count": 29,
   "id": "323e3fbc",
   "metadata": {},
   "outputs": [
    {
     "data": {
      "image/png": "[encoded data removed]",
      "text/plain": [
       "<Figure size 800x400 with 2 Axes>"
      ]
     },
     "metadata": {},
     "output_type": "display_data"
    }
   ],
   "source": [
    "# heatmap\n",
    "plt.figure(figsize=(8, 4))\n",
    "sns.heatmap(phik_overview, annot=True, fmt=\".2f\", cmap='Blues', vmin=0, vmax=1)\n",
    "plt.title('Матрица корреляции phik')\n",
    "\n",
    "plt.show()"
   ]
  },
  {
   "cell_type": "markdown",
   "id": "777a84d0",
   "metadata": {},
   "source": [
    ">Существует сильная кореляция между признаками energy и loudness, что может указывать на мультиколинеарность, в процессе разработки линейных моделей, возможно исключение признака energy, тк данный признак менее связан с целевым."
   ]
  },
  {
   "cell_type": "markdown",
   "id": "2cfb82bf",
   "metadata": {},
   "source": [
    "### Пропуски в данных признака `tempo`\n",
    "\n",
    "Попробуем построить модель LinearRegression для предсказания данного признака на основе данных и наибольшей кореляцией"
   ]
  },
  {
   "cell_type": "code",
   "execution_count": 24,
   "id": "0dfa1cc2",
   "metadata": {},
   "outputs": [],
   "source": [
    "tempo_df = df[['acousticness', 'danceability', 'energy', 'loudness', 'tempo']]"
   ]
  },
  {
   "cell_type": "code",
   "execution_count": 25,
   "id": "4ee7fb1c",
   "metadata": {},
   "outputs": [
    {
     "data": {
      "text/html": [
       "<div>\n",
       "<style scoped>\n",
       "    .dataframe tbody tr th:only-of-type {\n",
       "        vertical-align: middle;\n",
       "    }\n",
       "\n",
       "    .dataframe tbody tr th {\n",
       "        vertical-align: top;\n",
       "    }\n",
       "\n",
       "    .dataframe thead th {\n",
       "        text-align: right;\n",
       "    }\n",
       "</style>\n",
       "<table border=\"1\" class=\"dataframe\">\n",
       "  <thead>\n",
       "    <tr style=\"text-align: right;\">\n",
       "      <th></th>\n",
       "      <th>acousticness</th>\n",
       "      <th>danceability</th>\n",
       "      <th>energy</th>\n",
       "      <th>loudness</th>\n",
       "      <th>tempo</th>\n",
       "    </tr>\n",
       "    <tr>\n",
       "      <th>instance_id</th>\n",
       "      <th></th>\n",
       "      <th></th>\n",
       "      <th></th>\n",
       "      <th></th>\n",
       "      <th></th>\n",
       "    </tr>\n",
       "  </thead>\n",
       "  <tbody>\n",
       "    <tr>\n",
       "      <th>25143</th>\n",
       "      <td>0.480</td>\n",
       "      <td>0.670</td>\n",
       "      <td>0.351</td>\n",
       "      <td>-16.842</td>\n",
       "      <td>101.384</td>\n",
       "    </tr>\n",
       "    <tr>\n",
       "      <th>26091</th>\n",
       "      <td>0.243</td>\n",
       "      <td>0.452</td>\n",
       "      <td>0.670</td>\n",
       "      <td>-8.392</td>\n",
       "      <td>113.071</td>\n",
       "    </tr>\n",
       "  </tbody>\n",
       "</table>\n",
       "</div>"
      ],
      "text/plain": [
       "             acousticness  danceability  energy  loudness    tempo\n",
       "instance_id                                                       \n",
       "25143               0.480         0.670   0.351   -16.842  101.384\n",
       "26091               0.243         0.452   0.670    -8.392  113.071"
      ]
     },
     "metadata": {},
     "output_type": "display_data"
    }
   ],
   "source": [
    "display(tempo_df.head(2))"
   ]
  },
  {
   "cell_type": "code",
   "execution_count": 26,
   "id": "ae26b325",
   "metadata": {},
   "outputs": [
    {
     "name": "stdout",
     "output_type": "stream",
     "text": [
      "Root Mean Square Error (RMSE): 28.94147637341431\n"
     ]
    }
   ],
   "source": [
    "# выбор признаков и целевой переменной\n",
    "X = tempo_df.drop('tempo', axis=1)\n",
    "y = tempo_df['tempo']\n",
    "\n",
    "# разделение данных на тренировочный и тестовый наборы (например, 80% на тренировку и 20% на тест)\n",
    "X_train, X_test, y_train, y_test = train_test_split(X, y, test_size=0.2, random_state=42)\n",
    "\n",
    "# стандартизация признаков\n",
    "scaler = StandardScaler()\n",
    "X_train_scaled = scaler.fit_transform(X_train)\n",
    "X_test_scaled = scaler.transform(X_test)\n",
    "\n",
    "# построение модели регрессии\n",
    "model = LinearRegression()\n",
    "model.fit(X_train_scaled, y_train)\n",
    "\n",
    "# предсказание значений \"tempo\" для тестового набора данных\n",
    "y_pred = model.predict(X_test_scaled)\n",
    "\n",
    "# оценка производительности модели\n",
    "mse = mean_squared_error(y_test, y_pred)\n",
    "\n",
    "print(f'Root Mean Square Error (RMSE): {mse**0.5}')"
   ]
  },
  {
   "cell_type": "markdown",
   "id": "2456f67e",
   "metadata": {},
   "source": [
    "Оценим производительность модели, которая просто предсказывает медиану и сравним с обученной ранее моделью"
   ]
  },
  {
   "cell_type": "code",
   "execution_count": 27,
   "id": "47fe57ad",
   "metadata": {},
   "outputs": [
    {
     "name": "stdout",
     "output_type": "stream",
     "text": [
      "Static Model Root Mean Square Error (RMSE): 30.29873804566274\n"
     ]
    }
   ],
   "source": [
    "# вычисление медианы на тренировочном наборе данных\n",
    "median_tempo = np.median(y_train)\n",
    "\n",
    "# воздание массива предсказаний, в котором каждое предсказание равно медиане\n",
    "static_predictions = np.full_like(y_test, median_tempo)\n",
    "\n",
    "# оценка производительности статичной модели\n",
    "static_mse = mean_squared_error(y_test, static_predictions)\n",
    "\n",
    "print(f'Static Model Root Mean Square Error (RMSE): {static_mse**0.5}')"
   ]
  },
  {
   "cell_type": "markdown",
   "id": "34e32e35",
   "metadata": {},
   "source": [
    "> Модель LinearRegression дает прирост в точности.Обучим модель на всех данных и заполним пропуски"
   ]
  },
  {
   "cell_type": "code",
   "execution_count": 28,
   "id": "51428e3a",
   "metadata": {},
   "outputs": [
    {
     "data": {
      "text/html": [
       "<style>#sk-container-id-1 {color: black;background-color: white;}#sk-container-id-1 pre{padding: 0;}#sk-container-id-1 div.sk-toggleable {background-color: white;}#sk-container-id-1 label.sk-toggleable__label {cursor: pointer;display: block;width: 100%;margin-bottom: 0;padding: 0.3em;box-sizing: border-box;text-align: center;}#sk-container-id-1 label.sk-toggleable__label-arrow:before {content: \"▸\";float: left;margin-right: 0.25em;color: #696969;}#sk-container-id-1 label.sk-toggleable__label-arrow:hover:before {color: black;}#sk-container-id-1 div.sk-estimator:hover label.sk-toggleable__label-arrow:before {color: black;}#sk-container-id-1 div.sk-toggleable__content {max-height: 0;max-width: 0;overflow: hidden;text-align: left;background-color: #f0f8ff;}#sk-container-id-1 div.sk-toggleable__content pre {margin: 0.2em;color: black;border-radius: 0.25em;background-color: #f0f8ff;}#sk-container-id-1 input.sk-toggleable__control:checked~div.sk-toggleable__content {max-height: 200px;max-width: 100%;overflow: auto;}#sk-container-id-1 input.sk-toggleable__control:checked~label.sk-toggleable__label-arrow:before {content: \"▾\";}#sk-container-id-1 div.sk-estimator input.sk-toggleable__control:checked~label.sk-toggleable__label {background-color: #d4ebff;}#sk-container-id-1 div.sk-label input.sk-toggleable__control:checked~label.sk-toggleable__label {background-color: #d4ebff;}#sk-container-id-1 input.sk-hidden--visually {border: 0;clip: rect(1px 1px 1px 1px);clip: rect(1px, 1px, 1px, 1px);height: 1px;margin: -1px;overflow: hidden;padding: 0;position: absolute;width: 1px;}#sk-container-id-1 div.sk-estimator {font-family: monospace;background-color: #f0f8ff;border: 1px dotted black;border-radius: 0.25em;box-sizing: border-box;margin-bottom: 0.5em;}#sk-container-id-1 div.sk-estimator:hover {background-color: #d4ebff;}#sk-container-id-1 div.sk-parallel-item::after {content: \"\";width: 100%;border-bottom: 1px solid gray;flex-grow: 1;}#sk-container-id-1 div.sk-label:hover label.sk-toggleable__label {background-color: #d4ebff;}#sk-container-id-1 div.sk-serial::before {content: \"\";position: absolute;border-left: 1px solid gray;box-sizing: border-box;top: 0;bottom: 0;left: 50%;z-index: 0;}#sk-container-id-1 div.sk-serial {display: flex;flex-direction: column;align-items: center;background-color: white;padding-right: 0.2em;padding-left: 0.2em;position: relative;}#sk-container-id-1 div.sk-item {position: relative;z-index: 1;}#sk-container-id-1 div.sk-parallel {display: flex;align-items: stretch;justify-content: center;background-color: white;position: relative;}#sk-container-id-1 div.sk-item::before, #sk-container-id-1 div.sk-parallel-item::before {content: \"\";position: absolute;border-left: 1px solid gray;box-sizing: border-box;top: 0;bottom: 0;left: 50%;z-index: -1;}#sk-container-id-1 div.sk-parallel-item {display: flex;flex-direction: column;z-index: 1;position: relative;background-color: white;}#sk-container-id-1 div.sk-parallel-item:first-child::after {align-self: flex-end;width: 50%;}#sk-container-id-1 div.sk-parallel-item:last-child::after {align-self: flex-start;width: 50%;}#sk-container-id-1 div.sk-parallel-item:only-child::after {width: 0;}#sk-container-id-1 div.sk-dashed-wrapped {border: 1px dashed gray;margin: 0 0.4em 0.5em 0.4em;box-sizing: border-box;padding-bottom: 0.4em;background-color: white;}#sk-container-id-1 div.sk-label label {font-family: monospace;font-weight: bold;display: inline-block;line-height: 1.2em;}#sk-container-id-1 div.sk-label-container {text-align: center;}#sk-container-id-1 div.sk-container {/* jupyter's `normalize.less` sets `[hidden] { display: none; }` but bootstrap.min.css set `[hidden] { display: none !important; }` so we also need the `!important` here to be able to override the default hidden behavior on the sphinx rendered scikit-learn.org. See: https://github.com/scikit-learn/scikit-learn/issues/21755 */display: inline-block !important;position: relative;}#sk-container-id-1 div.sk-text-repr-fallback {display: none;}</style><div id=\"sk-container-id-1\" class=\"sk-top-container\"><div class=\"sk-text-repr-fallback\"><pre>LinearRegression()</pre><b>In a Jupyter environment, please rerun this cell to show the HTML representation or trust the notebook. <br />On GitHub, the HTML representation is unable to render, please try loading this page with nbviewer.org.</b></div><div class=\"sk-container\" hidden><div class=\"sk-item\"><div class=\"sk-estimator sk-toggleable\"><input class=\"sk-toggleable__control sk-hidden--visually\" id=\"sk-estimator-id-1\" type=\"checkbox\" checked><label for=\"sk-estimator-id-1\" class=\"sk-toggleable__label sk-toggleable__label-arrow\">LinearRegression</label><div class=\"sk-toggleable__content\"><pre>LinearRegression()</pre></div></div></div></div></div>"
      ],
      "text/plain": [
       "LinearRegression()"
      ]
     },
     "execution_count": 28,
     "metadata": {},
     "output_type": "execute_result"
    }
   ],
   "source": [
    "# стандартизация признаков\n",
    "X = scaler.fit_transform(X)\n",
    "# итоговая модель\n",
    "model.fit(X, y)"
   ]
  },
  {
   "cell_type": "markdown",
   "id": "76b15dce",
   "metadata": {},
   "source": [
    "__Заполнение пропусков__"
   ]
  },
  {
   "cell_type": "code",
   "execution_count": 29,
   "id": "26281360",
   "metadata": {},
   "outputs": [],
   "source": [
    "def fill_missing_tempo(dataset, model, scaler):\n",
    "    # строки с пропущенными значениями 'tempo'\n",
    "    missing_tempo_rows = dataset[dataset['tempo'].isnull()]\n",
    "\n",
    "    for index, row in missing_tempo_rows.iterrows():\n",
    "        # извлечение признаков из строки с пропущенным 'tempo'\n",
    "        features = row[['acousticness', 'danceability', 'energy', 'loudness']].values.reshape(1, -1)\n",
    "        # стандартизация признаков\n",
    "        features_scaled = scaler.transform(features)\n",
    "        # предсказание 'tempo' с использованием обученной модели\n",
    "        predicted_tempo = model.predict(features_scaled)\n",
    "        # запись предсказанного значения вместо пропуска\n",
    "        dataset.at[index, 'tempo'] = predicted_tempo[0]\n",
    "\n",
    "    return dataset"
   ]
  },
  {
   "cell_type": "markdown",
   "id": "263889ae",
   "metadata": {},
   "source": [
    "### Пропуски в данных признака `mode`\n",
    "\n",
    "Так как с этими признаками нет достаточно корелируемых признаков заполним пропуски,наиболее частым значением."
   ]
  },
  {
   "cell_type": "code",
   "execution_count": 30,
   "id": "7da43a11",
   "metadata": {},
   "outputs": [],
   "source": [
    "# заполнение для заполнения пропусков в train\n",
    "train = fill_missing_tempo(train, model, scaler)\n",
    "# заполнение  для заполнения пропусков в test\n",
    "test = fill_missing_tempo(test, model, scaler)"
   ]
  },
  {
   "cell_type": "code",
   "execution_count": 31,
   "id": "bc139c2a",
   "metadata": {},
   "outputs": [],
   "source": [
    "# заполняем пропуски наиболее частым значением\n",
    "train['mode'].fillna(fill_missing_tempo, inplace=True)\n",
    "test['mode'].fillna(fill_missing_tempo, inplace=True)"
   ]
  },
  {
   "cell_type": "markdown",
   "id": "56726313",
   "metadata": {},
   "source": [
    "### Пропуски в данных признака `key`\n",
    "\n",
    "Так как с этими признаками не достаточно корелируемых признаков заполним пропуски, значением 'no_info'."
   ]
  },
  {
   "cell_type": "code",
   "execution_count": 32,
   "id": "2951b73a",
   "metadata": {},
   "outputs": [],
   "source": [
    "# заполняем пропуски значением 'no_info'\n",
    "train['key'].fillna('no_info', inplace=True)\n",
    "test['key'].fillna('no_info', inplace=True)"
   ]
  },
  {
   "cell_type": "markdown",
   "id": "39cde88d",
   "metadata": {},
   "source": [
    "__Проверим пропуски в данных:__"
   ]
  },
  {
   "cell_type": "code",
   "execution_count": 33,
   "id": "5d3e7c99",
   "metadata": {},
   "outputs": [
    {
     "name": "stdout",
     "output_type": "stream",
     "text": [
      "Общее количество пропусков в данных: 0\n"
     ]
    }
   ],
   "source": [
    "print(f'Общее количество пропусков в данных: {sum(sum(col_pas for col_pas in df.isna().sum()) for df in [train, test])}')"
   ]
  },
  {
   "cell_type": "markdown",
   "id": "0f10973d",
   "metadata": {},
   "source": [
    "__Изменение типов данных категориальных признаков__"
   ]
  },
  {
   "cell_type": "code",
   "execution_count": 34,
   "id": "b5a5e8b0",
   "metadata": {},
   "outputs": [],
   "source": [
    "# выделение текстовых признаков\n",
    "categorical_cols = ['key', 'mode']\n",
    "\n",
    "train[categorical_cols] = train[categorical_cols].astype(str)\n",
    "test[categorical_cols] = test[categorical_cols].astype(str)"
   ]
  },
  {
   "cell_type": "markdown",
   "id": "b179b93d",
   "metadata": {},
   "source": [
    "- Мы рассмотрели данные о музыкальных треках, включая различные характеристики, такие как акустичность, танцевальность, энергичность и другие.\n",
    "   - Выполнили предварительную обработку данных, удалив ненужные признаки, такие как 'obtained_date' и 'valence'.\n",
    "   - Провели анализ числовых данных и выявили аномалии в столбце 'duration_ms', которые были успешно обработаны.\n",
    "- Заполнение пропусков:\n",
    "   - Для признака 'tempo' мы использовали обученную модель регрессии для предсказания пропущенных значений, на основе других характеристик.\n",
    "   - Для признака 'mode' мы заполнили пропуски наиболее часто встречающимся значением 'Major', так как у нас не было достаточно коррелирующих признаков для предсказания.\n",
    "- Баланс целевого признака:\n",
    "   - Мы оценили баланс целевого признака 'music_genre' и убедились, что в данных нет сильного дисбаланса между классами.\n"
   ]
  },
  {
   "cell_type": "markdown",
   "id": "dca0472b",
   "metadata": {},
   "source": [
    "<div style=\"padding:0px 20px 10px;\n",
    "            color:#004346;\n",
    "            font-size:15px;\n",
    "            display:fill;\n",
    "            text-align:center;\n",
    "            border-radius:20px;\n",
    "            border: 5px double;\n",
    "            border-color:#201E20;\n",
    "            background-color: #E8F1F2;\n",
    "            overflow:hidden;\n",
    "            font-weight:400\">\n",
    "\n",
    "#  Модели\n",
    "\n",
    "</div>\n",
    "\n",
    "__Проведем сравнительный анализ трех моделей, обученных на следующих алгоритмах:__\n",
    "- LogisticRegression\n",
    "- LGBMClassifier\n",
    "- CatBoostClassifier\n",
    "- Нейросеть PyTorch\n",
    "\n",
    "\n",
    "__Метрика качества:__ f1_micro"
   ]
  },
  {
   "cell_type": "markdown",
   "id": "a16cb8b6",
   "metadata": {},
   "source": [
    "<div style=\"padding:0px 20px 10px;\n",
    "            color:#004346;\n",
    "            font-size:15px;\n",
    "            display:fill;\n",
    "            text-align:center;\n",
    "            border-radius:20px;\n",
    "            border: 5px double;\n",
    "            border-color:#201E20;\n",
    "            background-color: #E8F1F2;\n",
    "            overflow:hidden;\n",
    "            font-weight:400\">\n",
    "\n",
    "## Feature Engineering\n",
    "\n",
    "</div>"
   ]
  },
  {
   "cell_type": "markdown",
   "id": "4e33cd66",
   "metadata": {},
   "source": [
    "### track_name\n",
    "\n",
    "- Получим эмбэдинги названия треков используя bert\n",
    "- Уменьшим размерность эмбэдингов"
   ]
  },
  {
   "cell_type": "code",
   "execution_count": null,
   "id": "5b9ffa8d",
   "metadata": {},
   "outputs": [],
   "source": [
    "# проверяем доступность MPS\n",
    "if torch.backends.mps.is_available():\n",
    "    device = torch.device(\"mps\")\n",
    "else:\n",
    "    device = torch.device('cuda' if torch.cuda.is_available() else 'cpu')\n",
    "\n",
    "# Инициализация токенизатора, конфигурации и модели BERT\n",
    "tokenizer = transformers.BertTokenizer.from_pretrained('bert-base-uncased')\n",
    "config = transformers.BertConfig.from_pretrained('bert-base-uncased')\n",
    "model = transformers.BertModel.from_pretrained('bert-base-uncased', config=config).to(device)"
   ]
  },
  {
   "cell_type": "markdown",
   "id": "12e8b1d8",
   "metadata": {},
   "source": [
    "__Данные для обучения__"
   ]
  },
  {
   "cell_type": "code",
   "execution_count": 35,
   "id": "0d94e3b8",
   "metadata": {},
   "outputs": [],
   "source": [
    "# данные\n",
    "text_data = train['track_name'] \n",
    "batch_size = 1"
   ]
  },
  {
   "cell_type": "code",
   "execution_count": 36,
   "id": "c252636c",
   "metadata": {},
   "outputs": [],
   "source": [
    "# токенизация и пакетирование текстов\n",
    "tokenized = text_data.apply(lambda x: tokenizer.encode(x, max_length=512, truncation=True, add_special_tokens=True))\n",
    "padded = pad_sequence([torch.as_tensor(seq) for seq in tokenized], batch_first=True)\n",
    "attention_mask = padded > 0\n",
    "attention_mask = attention_mask.type(torch.LongTensor).to(device)"
   ]
  },
  {
   "cell_type": "code",
   "execution_count": 37,
   "id": "e26b6ab2",
   "metadata": {},
   "outputs": [
    {
     "data": {
      "application/vnd.jupyter.widget-view+json": {
       "model_id": "3d45ad6aeb134fb49d3c91302934b0cb",
       "version_major": 2,
       "version_minor": 0
      },
      "text/plain": [
       "  0%|          | 0/20394 [00:00<?, ?it/s]"
      ]
     },
     "metadata": {},
     "output_type": "display_data"
    }
   ],
   "source": [
    "# получение эмбеддингов от BERT\n",
    "embeddings = []\n",
    "\n",
    "for i in notebook.tqdm(range(padded.shape[0] // batch_size)):\n",
    "    batch = torch.LongTensor(padded[batch_size * i: batch_size * (i + 1)]).to(device)\n",
    "    attention_mask_batch = torch.Tensor(attention_mask[batch_size * i: batch_size * (i + 1)]).to(device)\n",
    "\n",
    "    with torch.no_grad():\n",
    "        batch_embeddings = model(batch, attention_mask=attention_mask_batch)\n",
    "\n",
    "    embeddings.append(batch_embeddings[0][:, 0, :].cpu().numpy())\n"
   ]
  },
  {
   "cell_type": "markdown",
   "id": "68dc0689",
   "metadata": {},
   "source": [
    "__Данные для тестирования__"
   ]
  },
  {
   "cell_type": "code",
   "execution_count": 278,
   "id": "b08ce09d",
   "metadata": {},
   "outputs": [],
   "source": [
    "# данные\n",
    "text_data = test['track_name'] \n",
    "batch_size = 1"
   ]
  },
  {
   "cell_type": "code",
   "execution_count": 279,
   "id": "15e8e11b",
   "metadata": {},
   "outputs": [],
   "source": [
    "# токенизация и пакетирование текстов\n",
    "tokenized = text_data.apply(lambda x: tokenizer.encode(x, max_length=512, truncation=True, add_special_tokens=True))\n",
    "padded = pad_sequence([torch.as_tensor(seq) for seq in tokenized], batch_first=True)\n",
    "attention_mask = padded > 0\n",
    "attention_mask = attention_mask.type(torch.LongTensor).to(device)"
   ]
  },
  {
   "cell_type": "code",
   "execution_count": 280,
   "id": "050cb1ad",
   "metadata": {},
   "outputs": [
    {
     "data": {
      "application/vnd.jupyter.widget-view+json": {
       "model_id": "31d86c30c9d54b5085bbd97c9e96a2c4",
       "version_major": 2,
       "version_minor": 0
      },
      "text/plain": [
       "  0%|          | 0/5099 [00:00<?, ?it/s]"
      ]
     },
     "metadata": {},
     "output_type": "display_data"
    }
   ],
   "source": [
    "# получение эмбеддингов от BERT\n",
    "embeddings_test = []\n",
    "\n",
    "for i in notebook.tqdm(range(padded.shape[0] // batch_size)):\n",
    "    batch = torch.LongTensor(padded[batch_size * i: batch_size * (i + 1)]).to(device)\n",
    "    attention_mask_batch = torch.Tensor(attention_mask[batch_size * i: batch_size * (i + 1)]).to(device)\n",
    "\n",
    "    with torch.no_grad():\n",
    "        batch_embeddings = model(batch, attention_mask=attention_mask_batch)\n",
    "\n",
    "    embeddings_test.append(batch_embeddings[0][:, 0, :].cpu().numpy())"
   ]
  },
  {
   "cell_type": "markdown",
   "id": "35deffcb",
   "metadata": {},
   "source": [
    "__Сокращения размерности__"
   ]
  },
  {
   "cell_type": "code",
   "execution_count": 38,
   "id": "b18971cc",
   "metadata": {},
   "outputs": [],
   "source": [
    "# создание слоя для сокращения размерности до 10\n",
    "class LinearReducer(nn.Module):\n",
    "    def __init__(self, input_size, output_size):\n",
    "        super(LinearReducer, self).__init__()\n",
    "        self.linear1 = nn.Linear(input_size, output_size)\n",
    "        self.relu1 = nn.ReLU()\n",
    "\n",
    "\n",
    "    def forward(self, x):\n",
    "        x = self.linear1(x)\n",
    "        x = self.relu1(x)\n",
    "        return x"
   ]
  },
  {
   "cell_type": "code",
   "execution_count": 39,
   "id": "7048c00c",
   "metadata": {},
   "outputs": [],
   "source": [
    "# выходная размерность\n",
    "inp = 10"
   ]
  },
  {
   "cell_type": "code",
   "execution_count": 40,
   "id": "b21ca9aa",
   "metadata": {},
   "outputs": [
    {
     "name": "stdout",
     "output_type": "stream",
     "text": [
      "interval columns not set, guessing: ['feature_0', 'feature_1', 'feature_2', 'feature_3', 'feature_4', 'feature_5', 'feature_6', 'feature_7', 'feature_8', 'feature_9']\n"
     ]
    },
    {
     "data": {
      "image/png": "[encoded data removed]",
      "text/plain": [
       "<Figure size 1600x800 with 2 Axes>"
      ]
     },
     "metadata": {},
     "output_type": "display_data"
    }
   ],
   "source": [
    "# применение линейного слоя для сокращения размерности\n",
    "linear_reducer = LinearReducer(768, inp)  \n",
    "text_features = []\n",
    "\n",
    "for embedding in embeddings:\n",
    "    with torch.no_grad():\n",
    "        reduced_embedding = linear_reducer(torch.FloatTensor(embedding))\n",
    "        text_features.append(reduced_embedding.numpy())\n",
    "        \n",
    "text_features = np.concatenate(text_features, axis=0)\n",
    "text_features = pd.DataFrame(text_features, columns=[f'feature_{i}' for i in range(inp)])\n",
    "text_features.to_csv('text_features_train', index=False)\n",
    "text_features['y']=train['music_genre']\n",
    "\n",
    "# связь эмбэдингов с целевым признаком\n",
    "phik_overview = text_features[[col for col in text_features.columns]].phik_matrix()\n",
    "plt.figure(figsize=(16, 8))\n",
    "sns.heatmap(phik_overview, annot=True, cmap='coolwarm', vmin=0, vmax=1)\n",
    "plt.title('Матрица корреляции phik')\n",
    "\n",
    "plt.show()"
   ]
  },
  {
   "cell_type": "code",
   "execution_count": 36,
   "id": "37661b8c",
   "metadata": {},
   "outputs": [],
   "source": [
    "text_features_train = pd.read_csv('text_features_train')"
   ]
  },
  {
   "cell_type": "code",
   "execution_count": 353,
   "id": "ee3b526d",
   "metadata": {},
   "outputs": [],
   "source": [
    "# применение линейного слоя для сокращения размерности\n",
    "linear_reducer = LinearReducer(768, inp) \n",
    "text_features_test = []\n",
    "\n",
    "for embedding in embeddings_test:\n",
    "    with torch.no_grad():\n",
    "        reduced_embedding = linear_reducer(torch.FloatTensor(embedding))\n",
    "        text_features_test.append(reduced_embedding.numpy())\n",
    "        \n",
    "text_features_test = np.concatenate(text_features_test, axis=0)\n",
    "text_features_test = pd.DataFrame(text_features_test, columns=[f'feature_{i}' for i in range(inp)])\n",
    "text_features_test.to_csv('text_features_test', index=False)"
   ]
  },
  {
   "cell_type": "code",
   "execution_count": 37,
   "id": "534810d4",
   "metadata": {},
   "outputs": [],
   "source": [
    "text_features_test = pd.read_csv('text_features_test')"
   ]
  },
  {
   "cell_type": "markdown",
   "id": "2bde7e58",
   "metadata": {},
   "source": [
    "### Случайные математические признаки"
   ]
  },
  {
   "cell_type": "code",
   "execution_count": 38,
   "id": "ae4ddfbd",
   "metadata": {},
   "outputs": [],
   "source": [
    "# выборки\n",
    "y = train['music_genre'].values\n",
    "train = train.drop(['music_genre', 'track_name'], axis=1)\n",
    "test = test.drop('track_name', axis=1)"
   ]
  },
  {
   "cell_type": "code",
   "execution_count": null,
   "id": "360a9672",
   "metadata": {},
   "outputs": [],
   "source": [
    "# функция для создания новых признаков на основе математических операций\n",
    "def create_math_features(data, test, features, operations):\n",
    "    new_features = pd.DataFrame()\n",
    "    new_features['y'] = y\n",
    "    new_features_test = pd.DataFrame()\n",
    "    for feature1 in features:\n",
    "        for feature2 in features:\n",
    "            if feature1 != feature2:\n",
    "                for operation in operations:\n",
    "                    if operation == 'add':\n",
    "                        new_feature = data[feature1] + data[feature2]\n",
    "                        new_feature_t = test[feature1] + test[feature2]\n",
    "                    elif operation == 'subtract':\n",
    "                        new_feature = data[feature1] - data[feature2]\n",
    "                        new_feature_t = test[feature1] - test[feature2]\n",
    "                    elif operation == 'multiply':\n",
    "                        new_feature = data[feature1] * data[feature2]\n",
    "                        new_feature_t = test[feature1] * test[feature2]\n",
    "                    elif operation == 'mean':\n",
    "                        new_feature = (data[feature1] + data[feature2])/2\n",
    "                        new_feature_t = (test[feature1] + test[feature2])/2\n",
    "                    elif operation == 'sqrt':\n",
    "                        new_feature = ((data[feature1]**2 + data[feature2]**2)**0.5)/2\n",
    "                        new_feature_t = ((test[feature1]**2 + test[feature2]**2)**0.5)/2\n",
    "                    \n",
    "                    new_feature_name = f'{feature1}_{operation}_{feature2}'\n",
    "                    new_features[new_feature_name] = new_feature\n",
    "                    new_features_test[new_feature_name] = new_feature_t\n",
    "                    # проверка взаимосвязи с целевым признаком\n",
    "                    if new_features[['y', new_feature_name]].phik_matrix().iloc()[0][1]<0.7:\n",
    "                        new_features = new_features.drop(new_feature_name, axis=1)\n",
    "                        new_features_test = new_features_test.drop(new_feature_name, axis=1)\n",
    "    new_features = new_features.drop('y', axis=1)\n",
    "    return new_features, new_features_test\n",
    "\n",
    "# создаем новые признаки на основе заданных операций\n",
    "numeric_features = ['acousticness', 'danceability', 'duration_ms', 'energy',\n",
    "       'instrumentalness', 'liveness', 'loudness', 'speechiness', 'tempo']\n",
    "math_operations = ['add', 'subtract', 'multiply', 'mean', 'sgrt']  # операции\n",
    "new_features, new_features_test = create_math_features(train, test, numeric_features, math_operations)"
   ]
  },
  {
   "cell_type": "markdown",
   "id": "9b8cdbdb",
   "metadata": {},
   "source": [
    "## Подготовка данных"
   ]
  },
  {
   "cell_type": "code",
   "execution_count": 66,
   "id": "04bf440a",
   "metadata": {},
   "outputs": [],
   "source": [
    "# разделение на признаки  и целевую переменную тренировочных данных\n",
    "X = train.reset_index(drop=True)\n",
    "X =  pd.concat([X, text_features_train, new_features.reset_index(drop=True)], axis=1) \n",
    "X['len'] = pd.read_csv('data/train.csv')['track_name'].apply(lambda x: len(x))"
   ]
  },
  {
   "cell_type": "code",
   "execution_count": 67,
   "id": "ddc41d65",
   "metadata": {},
   "outputs": [],
   "source": [
    "# разделение на признаки  и целевую переменную тестовых данных\n",
    "X_test = test.reset_index(drop=True)\n",
    "X_test =  pd.concat([X_test, text_features_test, new_features_test.reset_index(drop=True)], axis=1)\n",
    "X_test['len'] = pd.read_csv('data/test.csv')['track_name'].apply(lambda x: len(x))"
   ]
  },
  {
   "cell_type": "code",
   "execution_count": 68,
   "id": "657e1e5b",
   "metadata": {},
   "outputs": [
    {
     "data": {
      "text/plain": [
       "((20394, 24), (5099, 24))"
      ]
     },
     "execution_count": 68,
     "metadata": {},
     "output_type": "execute_result"
    }
   ],
   "source": [
    "# проверка размерности\n",
    "X.shape, X_test.shape"
   ]
  },
  {
   "cell_type": "code",
   "execution_count": 69,
   "id": "e585dcbd",
   "metadata": {},
   "outputs": [],
   "source": [
    "# выделение числовые, и категориальные признаки\n",
    "categorical_cols = ['key', 'mode']\n",
    "\n",
    "numerical_cols  = [i for i in X.columns.to_list() if i not in categorical_cols]"
   ]
  },
  {
   "cell_type": "markdown",
   "id": "529cd6b4",
   "metadata": {},
   "source": [
    "__Pipeline log__\n",
    "\n",
    "Дополнительно логорифмируем признаки, имеющие распределение, смещенное в левую сторону"
   ]
  },
  {
   "cell_type": "code",
   "execution_count": 47,
   "id": "538c57fa",
   "metadata": {},
   "outputs": [],
   "source": [
    "# числовые признаки нужно логарифмировать\n",
    "log_transform_cols = ['acousticness','instrumentalness', 'liveness', 'speechiness'] \n",
    "\n",
    "# трансформер для логарифмирования указанных признаков\n",
    "log_transformer = Pipeline(steps=[\n",
    "    ('log_transform', FunctionTransformer(np.log1p, validate=False))\n",
    "])\n",
    "\n",
    "# трансформер для стандартизации числовых признаков\n",
    "numerical_transformer = Pipeline(steps=[\n",
    "    ('imputer', SimpleImputer(strategy='median')),\n",
    "    ('scaler', StandardScaler())\n",
    "])\n",
    "\n",
    "# трансформер для категориальных признаков\n",
    "categorical_transformer = Pipeline(steps=[\n",
    "    ('imputer', SimpleImputer(strategy='most_frequent')),\n",
    "    ('onehot', OneHotEncoder(handle_unknown='ignore'))\n",
    "])\n",
    "# ColumnTransformer\n",
    "preprocessor = ColumnTransformer(\n",
    "    transformers=[\n",
    "        ('log', log_transformer, log_transform_cols),\n",
    "        ('num', numerical_transformer, numerical_cols),\n",
    "        ('cat', categorical_transformer, categorical_cols)\n",
    "    ])"
   ]
  },
  {
   "cell_type": "code",
   "execution_count": 70,
   "id": "01c27d11",
   "metadata": {},
   "outputs": [],
   "source": [
    "# стандартизация данных\n",
    "X_transformed_log = preprocessor.fit_transform(X)\n",
    "X_test_transformed_log = preprocessor.transform(X_test)"
   ]
  },
  {
   "cell_type": "code",
   "execution_count": 58,
   "id": "40466c51",
   "metadata": {},
   "outputs": [],
   "source": [
    "# функция для вывода результатов подбора гиперпараметров Optuna\n",
    "def output_results(trial):\n",
    "    print('Результаты подборы параметров:')\n",
    "    print('  F1:', round(trial.value, 3))\n",
    "    print('  Params: ')\n",
    "    for key, value in trial.params.items():\n",
    "        print(\"    {}: {}\".format(key, value))\n",
    "        \n",
    "# создаем объект StratifiedKFold для кроссвалидации\n",
    "cv = StratifiedKFold(n_splits=4, shuffle=True, random_state=RANDOM_SEED)"
   ]
  },
  {
   "cell_type": "markdown",
   "id": "4c1439ac",
   "metadata": {},
   "source": [
    "<div style=\"padding:0px 20px 10px;\n",
    "            color:#004346;\n",
    "            font-size:15px;\n",
    "            display:fill;\n",
    "            text-align:center;\n",
    "            border-radius:20px;\n",
    "            border: 5px double;\n",
    "            border-color:#201E20;\n",
    "            background-color: #E8F1F2;\n",
    "            overflow:hidden;\n",
    "            font-weight:400\">\n",
    "\n",
    "#  LogisticRegression\n",
    "\n",
    "</div>"
   ]
  },
  {
   "cell_type": "code",
   "execution_count": 52,
   "id": "2ab88e8d",
   "metadata": {},
   "outputs": [],
   "source": [
    "def objective(trial):\n",
    "    # определение гиперпараметров для подбора\n",
    "    solver = trial.suggest_categorical('solver', ['lbfgs', 'sag', 'newton-cg'])\n",
    "    C = trial.suggest_loguniform('C', 1e-4, 1e2)\n",
    "    \n",
    "    # экземпляр модели Logistic Regression\n",
    "    model = LogisticRegression(\n",
    "        solver=solver,\n",
    "        C=C,\n",
    "        random_state=RANDOM_SEED,\n",
    "        max_iter=1000,\n",
    "        multi_class='multinomial'\n",
    "    )\n",
    "    \n",
    "    # кросс-валидация\n",
    "    f1_scores = []\n",
    "    for train_idx, val_idx in cv.split(X_transformed_log, y):\n",
    "        X_train_fold, y_train_fold = X_transformed_log[train_idx], y[train_idx]\n",
    "\n",
    "        X_val_fold, y_val_fold = X_transformed_log[val_idx], y[val_idx]\n",
    "\n",
    "        # обучаем модель\n",
    "        model.fit(X_train_fold, y_train_fold)\n",
    "        # делаем предсказания на валидационном фолде\n",
    "        y_val_pred = model.predict(X_val_fold)\n",
    "        # оцениваем метрику F1 Micro на валидационном фолде и добавляем в список результатов\n",
    "        f1_micro = f1_score(y_val_fold, y_val_pred, average='micro')\n",
    "        f1_scores.append(f1_micro)\n",
    "        \n",
    "    # сохранение наилучшей модели\n",
    "    if trial.should_prune():\n",
    "        raise optuna.TrialPruned()\n",
    "    trial.set_user_attr('best_model', model)\n",
    "    \n",
    "    return np.mean(f1_scores)"
   ]
  },
  {
   "cell_type": "code",
   "execution_count": null,
   "id": "77413e4c",
   "metadata": {},
   "outputs": [],
   "source": [
    "# подбор гиперпараметров\n",
    "study_lr = optuna.create_study(direction='maximize')\n",
    "study_lr.optimize(objective, n_trials=10)"
   ]
  },
  {
   "cell_type": "code",
   "execution_count": 59,
   "id": "1c6e9d97",
   "metadata": {},
   "outputs": [
    {
     "name": "stdout",
     "output_type": "stream",
     "text": [
      "Результаты подборы параметров:\n",
      "  F1: 0.396\n",
      "  Params: \n",
      "    solver: lbfgs\n",
      "    C: 12.449958053555749\n"
     ]
    }
   ],
   "source": [
    "# вывод результатов\n",
    "trial_lr = study_lr.best_trial\n",
    "best_mode_lr = trial_lr.user_attrs['best_model']\n",
    "output_results(trial_lr)"
   ]
  },
  {
   "cell_type": "markdown",
   "id": "baf41752",
   "metadata": {},
   "source": [
    ">Успешно подобраны гиперпараметры для модели на основе LogisticRegression.\n",
    ">\n",
    ">Метрики качества модели, на выборке для обучения, при кроссвалидации:\n",
    ">F1-micro: 0.396"
   ]
  },
  {
   "cell_type": "markdown",
   "id": "1305345b",
   "metadata": {},
   "source": [
    "<div style=\"padding:0px 20px 10px;\n",
    "            color:#004346;\n",
    "            font-size:15px;\n",
    "            display:fill;\n",
    "            text-align:center;\n",
    "            border-radius:20px;\n",
    "            border: 5px double;\n",
    "            border-color:#201E20;\n",
    "            background-color: #E8F1F2;\n",
    "            overflow:hidden;\n",
    "            font-weight:400\">\n",
    "\n",
    "#  LGBMClassifier\n",
    "\n",
    "</div>"
   ]
  },
  {
   "cell_type": "code",
   "execution_count": 76,
   "id": "e1bdcec5",
   "metadata": {},
   "outputs": [],
   "source": [
    "def objective(trial):\n",
    "\n",
    "    # пространство поиска гиперпараметров\n",
    "    param_grid = {\n",
    "            'verbosity': -1,\n",
    "            'n_jobs': -1,\n",
    "            'num_iterations': 1000,\n",
    "            'feature_fraction': trial.suggest_float('feature_fraction', 0.01, 1.0),\n",
    "            'min_child_samples': trial.suggest_int('min_child_samples', 5, 105, step=10),\n",
    "            'max_depth': trial.suggest_int('max_depth', 2, 16, step=2),\n",
    "            'learning_rate': trial.suggest_float('l2_leaf_reg', 1e-3, 10, log=True)\n",
    "        }\n",
    "\n",
    "    model = LGBMClassifier(**param_grid)\n",
    "    \n",
    "    # кросс-валидация\n",
    "    f1_scores = []\n",
    "    for train_idx, val_idx in cv.split(X_transformed_log, y):\n",
    "        X_train_fold, y_train_fold = X_transformed_log[train_idx], y[train_idx]\n",
    "\n",
    "        X_val_fold, y_val_fold = X_transformed_log[val_idx], y[val_idx]\n",
    "\n",
    "        # обучаем модель\n",
    "        model.fit(X_train_fold, y_train_fold)\n",
    "        # делаем предсказания на валидационном фолде\n",
    "        y_val_pred = model.predict(X_val_fold)\n",
    "        # оцениваем метрику F1 Micro на валидационном фолде и добавляем в список результатов\n",
    "        f1_micro = f1_score(y_val_fold, y_val_pred, average='micro')\n",
    "        f1_scores.append(f1_micro)\n",
    "        \n",
    "    # сохранение наилучшей модели\n",
    "    if trial.should_prune():\n",
    "        raise optuna.TrialPruned()\n",
    "    trial.set_user_attr('best_model', model)\n",
    "    \n",
    "    return np.mean(f1_scores)"
   ]
  },
  {
   "cell_type": "code",
   "execution_count": null,
   "id": "f717accd",
   "metadata": {},
   "outputs": [],
   "source": [
    "# подбор гиперпараметров\n",
    "study_lgbm = optuna.create_study(direction='maximize')\n",
    "study_lgbm.optimize(objective, n_trials=20)"
   ]
  },
  {
   "cell_type": "code",
   "execution_count": 78,
   "id": "6befbff9",
   "metadata": {},
   "outputs": [
    {
     "name": "stdout",
     "output_type": "stream",
     "text": [
      "Результаты подборы параметров:\n",
      "  F1: 0.465\n",
      "  Params: \n",
      "    feature_fraction: 0.6078054835377442\n",
      "    min_child_samples: 105\n",
      "    max_depth: 4\n",
      "    l2_leaf_reg: 0.011530130422548055\n"
     ]
    }
   ],
   "source": [
    "# вывод результатов\n",
    "trial_lgbm = study_lgbm.best_trial\n",
    "best_mode_lgbm = trial_lgbm.user_attrs['best_model']\n",
    "output_results(trial_lgbm)"
   ]
  },
  {
   "cell_type": "markdown",
   "id": "55ef3e95",
   "metadata": {},
   "source": [
    ">Успешно подобраны гиперпараметры для модели на основе LGBMClassifier.\n",
    ">\n",
    ">Метрики качества модели, на выборке для обучения, при кроссвалидации:\n",
    ">F1-micro: 0.465"
   ]
  },
  {
   "cell_type": "markdown",
   "id": "2c67ea05",
   "metadata": {},
   "source": [
    "<div style=\"padding:0px 20px 10px;\n",
    "            color:#004346;\n",
    "            font-size:15px;\n",
    "            display:fill;\n",
    "            text-align:center;\n",
    "            border-radius:20px;\n",
    "            border: 5px double;\n",
    "            border-color:#201E20;\n",
    "            background-color: #E8F1F2;\n",
    "            overflow:hidden;\n",
    "            font-weight:400\">\n",
    "\n",
    "##  CatBoostClassifier\n",
    "\n",
    "</div>"
   ]
  },
  {
   "cell_type": "code",
   "execution_count": 97,
   "id": "3d022ed1",
   "metadata": {},
   "outputs": [],
   "source": [
    "def objective(trial):\n",
    "    # пространство поиска гиперпараметров\n",
    "    param_grid = {\n",
    "        'iterations': 1000,\n",
    "        'learning_rate': trial.suggest_float('learning_rate', 1e-6, 1e-0, log=True),\n",
    "        'depth': trial.suggest_int('depth', 2, 8, step=2),\n",
    "        'l2_leaf_reg': trial.suggest_float('l2_leaf_reg', 1e-3, 10, log=True),\n",
    "        'verbose': 0,\n",
    "        'random_seed': RANDOM_SEED,\n",
    "        'loss_function': 'MultiClass',\n",
    "        'eval_metric': 'MultiClass'  \n",
    "    }\n",
    "\n",
    "    model = CatBoostClassifier(**param_grid)\n",
    "\n",
    "    # кросс-валидация\n",
    "    f1_scores = []\n",
    "    for train_idx, val_idx in cv.split(X, y):\n",
    "        # разделение данных на обучающую и валидационную выборки\n",
    "        X_train_fold, X_val_fold = X.iloc[train_idx], X.iloc[val_idx]\n",
    "        y_train_fold, y_val_fold = y[train_idx], y[val_idx]\n",
    "\n",
    "        # обучение модели\n",
    "        train_pool = Pool(data=X_train_fold, label=y_train_fold, cat_features=categorical_cols)\n",
    "        val_pool = Pool(data=X_val_fold, label=y_val_fold, cat_features=categorical_cols)\n",
    "        model.fit(train_pool, eval_set=val_pool)\n",
    "        # метрика качества\n",
    "        preds = model.predict(X_val_fold)\n",
    "        f1 = f1_score(y_val_fold, preds, average='micro')\n",
    "        f1_scores.append(f1)\n",
    "\n",
    "    score = np.average(f1_scores)\n",
    "\n",
    "    # сохранение наилучшей модели\n",
    "    if trial.should_prune():\n",
    "        raise optuna.TrialPruned()\n",
    "    trial.set_user_attr('best_model', model)\n",
    "\n",
    "    return score\n"
   ]
  },
  {
   "cell_type": "code",
   "execution_count": null,
   "id": "bdf4eb53",
   "metadata": {},
   "outputs": [],
   "source": [
    "# подбор гиперпараметров\n",
    "study_cb = optuna.create_study(direction='maximize')\n",
    "study_cb.optimize(objective, n_trials=10)"
   ]
  },
  {
   "cell_type": "code",
   "execution_count": 83,
   "id": "7af3f67e",
   "metadata": {},
   "outputs": [
    {
     "name": "stdout",
     "output_type": "stream",
     "text": [
      "Результаты подборы параметров:\n",
      "  F1: 0.481\n",
      "  Params: \n",
      "    learning_rate: 0.20258920958126847\n",
      "    depth: 4\n",
      "    l2_leaf_reg: 5.446241568940596\n"
     ]
    }
   ],
   "source": [
    "# вывод результатов\n",
    "trial_cb = study_cb.best_trial\n",
    "best_mode_cb = trial_cb.user_attrs['best_model']\n",
    "output_results(trial_cb)"
   ]
  },
  {
   "cell_type": "markdown",
   "id": "afb7a949",
   "metadata": {},
   "source": [
    ">Успешно подобраны гиперпараметры для модели на основе CatBoostClassifier.\n",
    ">\n",
    ">Метрики качества модели, на выборке для обучения, при кроссвалидации:\n",
    ">F1-micro: 0.481"
   ]
  },
  {
   "cell_type": "markdown",
   "id": "6cfbf032",
   "metadata": {},
   "source": [
    "<div style=\"padding:0px 20px 10px;\n",
    "            color:#004346;\n",
    "            font-size:15px;\n",
    "            display:fill;\n",
    "            text-align:center;\n",
    "            border-radius:20px;\n",
    "            border: 5px double;\n",
    "            border-color:#201E20;\n",
    "            background-color: #E8F1F2;\n",
    "            overflow:hidden;\n",
    "            font-weight:400\">\n",
    "\n",
    "##  Нейросеть PyTorch\n",
    "\n",
    "</div>"
   ]
  },
  {
   "cell_type": "code",
   "execution_count": 88,
   "id": "2016b82b",
   "metadata": {},
   "outputs": [],
   "source": [
    "# определение архитектуры нейронной сети\n",
    "class Baseline(nn.Module):\n",
    "    def __init__(self, input_size, hidden_size_1, hidden_size_2, hidden_size_3, hidden_size_4, output_size,\n",
    "                 drop_1, drop_2, drop_3, drop_4,\n",
    "                 activation_1, activation_2, activation_3, activation_4):\n",
    "        super(Baseline, self).__init__()\n",
    "        \n",
    "        self.fc1 = nn.Linear(input_size, hidden_size_1)\n",
    "        self.act1 = activation_1\n",
    "        self.drop1 = nn.Dropout(drop_1)\n",
    "        \n",
    "        self.fc2 = nn.Linear(hidden_size_1, hidden_size_2)\n",
    "        self.act2 = activation_2\n",
    "        self.drop2 = nn.Dropout(drop_2)\n",
    "        \n",
    "        self.fc3 = nn.Linear(hidden_size_2, hidden_size_3)\n",
    "        self.act3 = activation_3\n",
    "        self.drop3 = nn.Dropout(drop_3)\n",
    "        \n",
    "        self.fc4 = nn.Linear(hidden_size_3, hidden_size_4)\n",
    "        self.act4 = activation_4\n",
    "        self.drop4 = nn.Dropout(drop_4)\n",
    "        \n",
    "        self.fc5 = nn.Linear(hidden_size_4, output_size)\n",
    "        \n",
    "        self.init_weights()\n",
    "        \n",
    "    def forward(self, x):\n",
    "        x = self.drop1(self.act1(self.fc1(x)))\n",
    "        x = self.drop2(self.act2(self.fc2(x)))\n",
    "        x = self.drop3(self.act3(self.fc3(x)))\n",
    "        x = self.drop4(self.act4(self.fc4(x)))\n",
    "        x = self.fc5(x)\n",
    "        return x\n",
    "    \n",
    "    def init_weights(m):\n",
    "        if isinstance(m, nn.Linear):\n",
    "            torch.nn.init.kaiming_normal_(m.weight)\n",
    "            m.bias.data.fill_(0.01)"
   ]
  },
  {
   "cell_type": "markdown",
   "id": "00810b1f",
   "metadata": {},
   "source": [
    "__Тензор для обучения__"
   ]
  },
  {
   "cell_type": "code",
   "execution_count": 89,
   "id": "c8720132",
   "metadata": {},
   "outputs": [],
   "source": [
    "X_train_tensor = torch.tensor(X_transformed_log, dtype=torch.float32)\n",
    "\n",
    "# создание экземпляра LabelEncoder\n",
    "label_encoder = LabelEncoder()\n",
    "# преобразование строковых метки в числовые значения\n",
    "y_encoded = label_encoder.fit_transform(y)"
   ]
  },
  {
   "cell_type": "code",
   "execution_count": 90,
   "id": "c5c3fb39",
   "metadata": {},
   "outputs": [],
   "source": [
    "def objective(trial):\n",
    "\n",
    "    # dropout\n",
    "    drop_1 = trial.suggest_float('module__drop_1', 0.0, 0.5, step=0.1)\n",
    "    drop_2 = trial.suggest_float('module__drop_2', 0.0, 0.5, step=0.1)\n",
    "    drop_3 = trial.suggest_float('module__drop_3', 0.0, 0.5, step=0.1)\n",
    "    drop_4 = trial.suggest_float('module__drop_4', 0.0, 0.5, step=0.1)\n",
    "\n",
    "    # функции активации\n",
    "    activation_dict = {'nn.LeakyReLU()': nn.LeakyReLU(),\n",
    "                       'nn.ReLU()': nn.ReLU(),\n",
    "                       'nn.Tanh()': nn.Tanh(),\n",
    "                       'nn.ELU()': nn.ELU()\n",
    "                      }\n",
    "\n",
    "    activation_1 = trial.suggest_categorical('module__activation_1', ['nn.LeakyReLU()', 'nn.ReLU()', 'nn.Tanh()', 'nn.ELU()'])\n",
    "    activation_2 = trial.suggest_categorical('module__activation_2', ['nn.LeakyReLU()', 'nn.ReLU()', 'nn.Tanh()', 'nn.ELU()'])\n",
    "    activation_3 = trial.suggest_categorical('module__activation_3', ['nn.LeakyReLU()', 'nn.ReLU()', 'nn.Tanh()', 'nn.ELU()'])\n",
    "    activation_4 = trial.suggest_categorical('module__activation_4', ['nn.LeakyReLU()', 'nn.ReLU()', 'nn.Tanh()', 'nn.ELU()'])\n",
    "\n",
    "    activation_1 = activation_dict.get(activation_1)\n",
    "    activation_2 = activation_dict.get(activation_2)\n",
    "    activation_3 = activation_dict.get(activation_3)\n",
    "    activation_4 = activation_dict.get(activation_4)\n",
    "\n",
    "\n",
    "    # количество нейронов\n",
    "    input_size = X_train_tensor.shape[1] \n",
    "    output_size = 10\n",
    "\n",
    "    hidden_size_1 = trial.suggest_int('module__hidden_size_1', 5, 170,  step=5)\n",
    "    hidden_size_2 = trial.suggest_int('module__hidden_size_2', 5, 170,  step=5)\n",
    "    hidden_size_3 = trial.suggest_int('module__hidden_size_3', 5, 170,  step=5)\n",
    "    hidden_size_4 = trial.suggest_int('module__hidden_size_4', 5, 170,  step=5)\n",
    "\n",
    "\n",
    "\n",
    "    # скорость обучения\n",
    "    lr = trial.suggest_float('learning_rate', 1e-6, 1e-0, log=True)\n",
    "    \n",
    "    # размер пакета обучения\n",
    "    batch_size = trial.suggest_int('batch_size', 5, 205,  step=25)\n",
    "    \n",
    "    # модель\n",
    "    model_classifier = Baseline(input_size, hidden_size_1, hidden_size_2, hidden_size_3, hidden_size_4, output_size,\n",
    "                          drop_1, drop_2, drop_3, drop_4,\n",
    "                          activation_1, activation_2, activation_3, activation_4)\n",
    "    \n",
    "    # количество шагов до остановки обучения\n",
    "    patience = trial.suggest_int('patience', 10, 20,  step=10)\n",
    "\n",
    "    # параметры подбора параметров модели\n",
    "    skorch_classifier = NeuralNetClassifier(module=model_classifier,\n",
    "                                            device=device,\n",
    "                                            batch_size=batch_size,\n",
    "                                            verbose=100,\n",
    "                                            optimizer=optim.Adam,\n",
    "                                            max_epochs=500,\n",
    "                                            lr=lr,\n",
    "                                            criterion=nn.CrossEntropyLoss,\n",
    "                                            callbacks=[\n",
    "                                                ('val_f1_micro', EpochScoring(scoring='f1_micro', lower_is_better=False, name='F1_micro')),\n",
    "                                                ('estopper', EarlyStopping(lower_is_better=False, monitor='F1_micro', patience=patience))\n",
    "                                            ])\n",
    "\n",
    "\n",
    "    # кросс-валидация\n",
    "    y_pred = cross_val_predict(skorch_classifier, X_train_tensor, y_encoded, cv=cv, n_jobs=-1)\n",
    "\n",
    "    f1_micro = f1_score(y_encoded, y_pred, average='micro')\n",
    "    \n",
    "    return f1_micro"
   ]
  },
  {
   "cell_type": "code",
   "execution_count": null,
   "id": "c4135625",
   "metadata": {},
   "outputs": [],
   "source": [
    "# подбор гиперпараметров\n",
    "study_pyt = optuna.create_study(direction='maximize')\n",
    "study_pyt.optimize(objective, n_trials=10)"
   ]
  },
  {
   "cell_type": "code",
   "execution_count": 93,
   "id": "09995dbd",
   "metadata": {},
   "outputs": [
    {
     "name": "stdout",
     "output_type": "stream",
     "text": [
      "Результаты подборы параметров:\n",
      "  F1: 0.447\n",
      "  Params: \n",
      "    module__drop_1: 0.4\n",
      "    module__drop_2: 0.5\n",
      "    module__drop_3: 0.0\n",
      "    module__drop_4: 0.4\n",
      "    module__activation_1: nn.ReLU()\n",
      "    module__activation_2: nn.Tanh()\n",
      "    module__activation_3: nn.ReLU()\n",
      "    module__activation_4: nn.Tanh()\n",
      "    module__hidden_size_1: 95\n",
      "    module__hidden_size_2: 85\n",
      "    module__hidden_size_3: 150\n",
      "    module__hidden_size_4: 70\n",
      "    learning_rate: 0.0008707754367864515\n",
      "    batch_size: 30\n",
      "    patience: 10\n"
     ]
    }
   ],
   "source": [
    "# вывод результатов\n",
    "trial_torch = study_pyt.best_trial\n",
    "output_results(trial_torch)"
   ]
  },
  {
   "cell_type": "markdown",
   "id": "4bfba9e8",
   "metadata": {},
   "source": [
    ">Успешно подобраны гиперпараметры для модели на основе PyTorch.\n",
    ">\n",
    ">Метрики качества модели, на выборке для обучения, при кроссвалидации:\n",
    ">F1-micro: 0.447"
   ]
  },
  {
   "cell_type": "markdown",
   "id": "608bc9e7",
   "metadata": {},
   "source": [
    "## Сводная таблица качества моделей"
   ]
  },
  {
   "cell_type": "code",
   "execution_count": 99,
   "id": "bbbc04f0",
   "metadata": {
    "scrolled": true
   },
   "outputs": [
    {
     "data": {
      "text/html": [
       "<div>\n",
       "<style scoped>\n",
       "    .dataframe tbody tr th:only-of-type {\n",
       "        vertical-align: middle;\n",
       "    }\n",
       "\n",
       "    .dataframe tbody tr th {\n",
       "        vertical-align: top;\n",
       "    }\n",
       "\n",
       "    .dataframe thead th {\n",
       "        text-align: right;\n",
       "    }\n",
       "</style>\n",
       "<table border=\"1\" class=\"dataframe\">\n",
       "  <thead>\n",
       "    <tr style=\"text-align: right;\">\n",
       "      <th></th>\n",
       "      <th>Model</th>\n",
       "      <th>f1-micro</th>\n",
       "    </tr>\n",
       "  </thead>\n",
       "  <tbody>\n",
       "    <tr>\n",
       "      <th>0</th>\n",
       "      <td>LogisticRegression</td>\n",
       "      <td>0.396</td>\n",
       "    </tr>\n",
       "    <tr>\n",
       "      <th>1</th>\n",
       "      <td>LightGBM</td>\n",
       "      <td>0.465</td>\n",
       "    </tr>\n",
       "    <tr>\n",
       "      <th>2</th>\n",
       "      <td>CatBoost</td>\n",
       "      <td>0.481</td>\n",
       "    </tr>\n",
       "    <tr>\n",
       "      <th>3</th>\n",
       "      <td>PyTorch</td>\n",
       "      <td>0.447</td>\n",
       "    </tr>\n",
       "  </tbody>\n",
       "</table>\n",
       "</div>"
      ],
      "text/plain": [
       "                Model  f1-micro\n",
       "0  LogisticRegression     0.396\n",
       "1            LightGBM     0.465\n",
       "2            CatBoost     0.481\n",
       "3             PyTorch     0.447"
      ]
     },
     "metadata": {},
     "output_type": "display_data"
    }
   ],
   "source": [
    "data = {\n",
    "    'Model': ['LogisticRegression', 'LightGBM', 'CatBoost', 'PyTorch'],\n",
    "    'f1-micro': [0.396, 0.465, 0.481, 0.447]\n",
    "    \n",
    "}\n",
    "display(pd.DataFrame(data))"
   ]
  },
  {
   "cell_type": "markdown",
   "id": "5885908b",
   "metadata": {},
   "source": [
    ">Лучшая метрика качества получина при использовании CatBoost\n",
    ">\n",
    ">Используем данную модель, для получения предсказаний на тестовых данных"
   ]
  },
  {
   "cell_type": "markdown",
   "id": "ef0455be",
   "metadata": {},
   "source": [
    "<div style=\"padding:0px 20px 10px;\n",
    "            color:#004346;\n",
    "            font-size:15px;\n",
    "            display:fill;\n",
    "            text-align:center;\n",
    "            border-radius:20px;\n",
    "            border: 5px double;\n",
    "            border-color:#201E20;\n",
    "            background-color: #E8F1F2;\n",
    "            overflow:hidden;\n",
    "            font-weight:400\">\n",
    "\n",
    "# Определение музыкальных жанров на тестовых данных.\n",
    "\n",
    "</div>\n",
    "\n",
    "Используем модель с лучшей метрикой качества на тестовых данных."
   ]
  },
  {
   "cell_type": "code",
   "execution_count": 100,
   "id": "53e46fd3",
   "metadata": {},
   "outputs": [],
   "source": [
    "predict = best_mode_cb.predict(X_test)\n",
    "\n",
    "# сохранении полученных данных\n",
    "testing = pd.read_csv('data/test.csv')\n",
    "testing['music_genre'] = pred\n",
    "testing[['instance_id', 'music_genre']].to_csv('predict.csv', index=False)"
   ]
  },
  {
   "cell_type": "markdown",
   "id": "1c9ba4e1",
   "metadata": {},
   "source": [
    "<div style=\"padding:0px 20px 10px;\n",
    "            color:#004346;\n",
    "            font-size:15px;\n",
    "            display:fill;\n",
    "            text-align:center;\n",
    "            border-radius:20px;\n",
    "            border: 5px double;\n",
    "            border-color:#201E20;\n",
    "            background-color: #E8F1F2;\n",
    "            overflow:hidden;\n",
    "            font-weight:400\">\n",
    "\n",
    "# Вывод\n",
    "\n",
    "</div>"
   ]
  },
  {
   "cell_type": "markdown",
   "id": "e189b00f",
   "metadata": {},
   "source": [
    "__Задача проекта:__ Разработка модели машинного обучения для классификации музыкальных треков по жанрам в рамках расширения сотрудничества с новыми артистами и улучшения рекомендательной системы в музыкальном стриминговом сервисе \"МиФаСоль\".\n",
    "\n",
    "__Основные этапы проекта:__\n",
    "\n",
    "__Загрузка данных:__ Начальный этап проекта включает в себя загрузку данных о музыкальных треках. Используйте файл train.csv, который содержит информацию о более чем 20,000 музыкальных треках. Эти данные будут использованы в качестве обучающих данных для модели.\n",
    "\n",
    "__Предварительный анализ данных:__ Проведен анализ данных, включая изучение структуры данных и характеристик признаков. Оценины распределение жанров, проанализированы признаки, которые могут влиять на классификацию по жанрам.\n",
    "\n",
    "__Подготовка данных:__ Выполните следующие шаги по подготовке данных:\n",
    "\n",
    "- Очистка данных от пропущенных значений, аномалий и дубликатов.\n",
    "- Кодирование категориальных признаков, таких как mode (мажор/минор).\n",
    "- Масштабирование числовых признаков.\n",
    "\n",
    "__Обучение модели:__ Мы разработали и обучили модель машинного обучения для классификации музыкальных треков по жанрам. Мы рассмотрели различные алгоритмы классификации и подобрали оптимальные гиперпараметры модели.\n",
    "\n",
    "__Оценка модели:__ Наилучшие результаты показала модель градиентного бустинга CatBoost. Модель демонстрирует хорошие показатели качества с метрикой f1_micro: 0.481. Это означает, что она корректно классифицирует музыкальные треки по жанрам.\n",
    "\n",
    "__Выводы:__\n",
    "\n",
    "Проект успешно завершен, и была разработана модель машинного обучения для классификации музыкальных треков по жанрам. Эта модель может улучшить рекомендательную систему в музыкальном стриминговом сервисе \"МиФаСоль\" и помочь пользователям открывать новые артисты и жанры.\n",
    "\n",
    "__Дальнейшая работа над проектом может включать в себя следующие улучшения:__\n",
    "\n",
    "__Инженерия признаков:__ Разработать дополнительные признаки на основе анализа музыкальных данных, такие как анализ текстов песен или музыкальных аккордов.\n",
    "\n",
    "__Улучшение модели:__ Попробовать различные алгоритмы машинного обучения, настраивать гиперпараметры и проводить более глубокий анализ результатов для дальнейшего улучшения модели.\n",
    "\n",
    "__Оценка точности прогнозов:__ Провести более подробный анализ ошибок модели и исследовать, в каких случаях она может давать неправильные классификации.\n",
    "\n",
    "Проект подчеркивает важность анализа данных, обучения моделей машинного обучения и их оценки для решения задач классификации, особенно в контексте музыкального стримингового сервиса."
   ]
  }
 ],
 "metadata": {
  "kernelspec": {
   "display_name": "Python 3 (ipykernel)",
   "language": "python",
   "name": "python3"
  },
  "language_info": {
   "codemirror_mode": {
    "name": "ipython",
    "version": 3
   },
   "file_extension": ".py",
   "mimetype": "text/x-python",
   "name": "python",
   "nbconvert_exporter": "python",
   "pygments_lexer": "ipython3",
   "version": "3.10.9"
  },
  "toc": {
   "base_numbering": 1,
   "nav_menu": {},
   "number_sections": true,
   "sideBar": true,
   "skip_h1_title": false,
   "title_cell": "Table of Contents",
   "title_sidebar": "Contents",
   "toc_cell": false,
   "toc_position": {},
   "toc_section_display": true,
   "toc_window_display": false
  }
 },
 "nbformat": 4,
 "nbformat_minor": 5
}
